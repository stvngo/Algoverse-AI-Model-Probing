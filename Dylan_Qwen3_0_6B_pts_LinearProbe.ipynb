{
  "nbformat": 4,
  "nbformat_minor": 0,
  "metadata": {
    "colab": {
      "provenance": [],
      "gpuType": "T4"
    },
    "kernelspec": {
      "name": "python3",
      "display_name": "Python 3"
    },
    "language_info": {
      "name": "python"
    },
    "accelerator": "GPU"
  },
  "cells": [
    {
      "cell_type": "markdown",
      "source": [
        "Install Packages"
      ],
      "metadata": {
        "id": "_KLsip0Rdk6N"
      }
    },
    {
      "cell_type": "code",
      "execution_count": 11,
      "metadata": {
        "id": "vsKV7vLR3Vh7"
      },
      "outputs": [],
      "source": [
        "!pip install -q transformers accelerate einops\n",
        "\n"
      ]
    },
    {
      "cell_type": "markdown",
      "source": [
        "Load Qwen3-0.6B Model"
      ],
      "metadata": {
        "id": "40UV02KFdVlc"
      }
    },
    {
      "cell_type": "code",
      "source": [
        "from transformers import AutoTokenizer, AutoModelForCausalLM\n",
        "import torch\n",
        "\n",
        "model_id = \"Qwen/Qwen3-0.6B\"\n",
        "\n",
        "tokenizer = AutoTokenizer.from_pretrained(model_id, trust_remote_code=True)\n",
        "model = AutoModelForCausalLM.from_pretrained(\n",
        "    model_id,\n",
        "    torch_dtype=torch.float16,  # reduce memory\n",
        "    device_map=\"auto\",          # auto to GPU if available\n",
        "    trust_remote_code=True\n",
        ")\n",
        "\n",
        "print(\"Number of transformer layers:\", len(model.model.layers)) # print layer count\n"
      ],
      "metadata": {
        "id": "nA1H2-a_3k3j",
        "colab": {
          "base_uri": "https://localhost:8080/"
        },
        "outputId": "373979df-b3a5-45c8-9e30-5005f75de8c3"
      },
      "execution_count": 12,
      "outputs": [
        {
          "output_type": "stream",
          "name": "stdout",
          "text": [
            "Number of transformer layers: 28\n"
          ]
        }
      ]
    },
    {
      "cell_type": "markdown",
      "source": [
        "Testing Prompt"
      ],
      "metadata": {
        "id": "s_vLSkW_d_8c"
      }
    },
    {
      "cell_type": "code",
      "source": [
        "prompt = \"Q: If you have 12 apples and eat 5, then buy 3 more, how many do you have?\\nA: Let's think step by step.\"\n",
        "inputs = tokenizer(prompt, return_tensors=\"pt\").to(\"cuda\")\n",
        "\n",
        "outputs = model.generate(\n",
        "    **inputs,\n",
        "    max_new_tokens=100,\n",
        "    do_sample=True,\n",
        "    temperature=0.7,\n",
        "    top_p=0.9,\n",
        "    top_k=40,\n",
        ")\n",
        "\n",
        "decoded = tokenizer.decode(outputs[0], skip_special_tokens=True)\n",
        "\n",
        "# Truncate at the next question (if any)\n",
        "answer = decoded.split(\"\\nQ:\")[0].strip()\n",
        "\n",
        "print(answer)\n"
      ],
      "metadata": {
        "id": "cTdK3XIC4dn4",
        "colab": {
          "base_uri": "https://localhost:8080/"
        },
        "outputId": "9e6ae72f-9bf1-4cf3-f552-fdd585a44027"
      },
      "execution_count": 13,
      "outputs": [
        {
          "output_type": "stream",
          "name": "stdout",
          "text": [
            "Q: If you have 12 apples and eat 5, then buy 3 more, how many do you have?\n",
            "A: Let's think step by step. The first step is to subtract 5 from the total number of apples. So, we have 12 apples, and we eat 5, which leaves us with 12 - 5 = 7 apples. Next, we buy 3 more apples. Therefore, the total number of apples after these actions is 7 + 3 = 10. So, the answer should be 10.\n",
            "The answer is 10.\n"
          ]
        }
      ]
    },
    {
      "cell_type": "markdown",
      "source": [
        "# Linear Probe"
      ],
      "metadata": {
        "id": "Dkux8j7jdDPp"
      }
    },
    {
      "cell_type": "markdown",
      "source": [
        "Loading Dataset"
      ],
      "metadata": {
        "id": "lRlxvZn8ex--"
      }
    },
    {
      "cell_type": "code",
      "source": [
        "from huggingface_hub import login\n",
        "from google.colab import userdata\n",
        "\n",
        "# Get your secret token from Colab Secrets\n",
        "HF_TOKEN = userdata.get('HF_TOKEN')\n",
        "\n",
        "# Pass the token directly\n",
        "login(token=HF_TOKEN)\n"
      ],
      "metadata": {
        "id": "Rr7t9XL-c_os"
      },
      "execution_count": 14,
      "outputs": []
    },
    {
      "cell_type": "code",
      "source": [
        "from datasets import load_dataset\n",
        "\n",
        "# Login using e.g. `huggingface-cli login` to access this dataset\n",
        "dataset = load_dataset(\"codelion/Qwen3-0.6B-pts\", split=\"train\")\n",
        "\n",
        "# Print total number of samples\n",
        "print(f\"Total samples: {len(dataset)}\")\n",
        "\n",
        "# View the first example\n",
        "print(dataset[0])\n",
        "\n",
        "# Optionally: show the keys available\n",
        "print(dataset[0].keys())\n",
        "\n",
        "# View a few entries\n",
        "for i in range(3):\n",
        "    print(f\"\\nSample {i}:\\n{dataset[i]}\")\n"
      ],
      "metadata": {
        "id": "GZvISg3HmAJE",
        "colab": {
          "base_uri": "https://localhost:8080/"
        },
        "outputId": "4c4f3a23-24fe-4a44-8c57-18217a01a67b"
      },
      "execution_count": 15,
      "outputs": [
        {
          "output_type": "stream",
          "name": "stdout",
          "text": [
            "Total samples: 1376\n",
            "{'model_id': 'Qwen/Qwen3-0.6B', 'query': 'Weng earns $12 an hour for babysitting. Yesterday, she just did 50 minutes of babysitting. How much did she earn?', 'pivot_context': 'Weng earns $12 an hour for babysitting. Yesterday, she just did 50 minutes of babysitting. How much did she earn? \\n\\n', 'pivot_token': 'A', 'pivot_token_id': 32, 'prob_before': 0.68, 'prob_after': 0.0, 'prob_delta': -0.68, 'is_positive': False, 'task_type': 'generic', 'dataset_id': 'openai/gsm8k', 'dataset_item_id': '1', 'timestamp': datetime.datetime(2025, 5, 13, 14, 0, 26)}\n",
            "dict_keys(['model_id', 'query', 'pivot_context', 'pivot_token', 'pivot_token_id', 'prob_before', 'prob_after', 'prob_delta', 'is_positive', 'task_type', 'dataset_id', 'dataset_item_id', 'timestamp'])\n",
            "\n",
            "Sample 0:\n",
            "{'model_id': 'Qwen/Qwen3-0.6B', 'query': 'Weng earns $12 an hour for babysitting. Yesterday, she just did 50 minutes of babysitting. How much did she earn?', 'pivot_context': 'Weng earns $12 an hour for babysitting. Yesterday, she just did 50 minutes of babysitting. How much did she earn? \\n\\n', 'pivot_token': 'A', 'pivot_token_id': 32, 'prob_before': 0.68, 'prob_after': 0.0, 'prob_delta': -0.68, 'is_positive': False, 'task_type': 'generic', 'dataset_id': 'openai/gsm8k', 'dataset_item_id': '1', 'timestamp': datetime.datetime(2025, 5, 13, 14, 0, 26)}\n",
            "\n",
            "Sample 1:\n",
            "{'model_id': 'Qwen/Qwen3-0.6B', 'query': 'Weng earns $12 an hour for babysitting. Yesterday, she just did 50 minutes of babysitting. How much did she earn?', 'pivot_context': 'Weng earns $12 an hour for babysitting. Yesterday, she just did 50 minutes of babysitting. How much did she earn? To solve the problem, you should multiply', 'pivot_token': ' ', 'pivot_token_id': 220, 'prob_before': 0.8, 'prob_after': 0.4, 'prob_delta': -0.4, 'is_positive': False, 'task_type': 'generic', 'dataset_id': 'openai/gsm8k', 'dataset_item_id': '1', 'timestamp': datetime.datetime(2025, 5, 13, 14, 34, 13)}\n",
            "\n",
            "Sample 2:\n",
            "{'model_id': 'Qwen/Qwen3-0.6B', 'query': 'Weng earns $12 an hour for babysitting. Yesterday, she just did 50 minutes of babysitting. How much did she earn?', 'pivot_context': 'Weng earns $12 an hour for babysitting. Yesterday, she just did 50 minutes of babysitting. How much did she earn? \\n\\n', 'pivot_token': 'A', 'pivot_token_id': 32, 'prob_before': 0.68, 'prob_after': 0.0, 'prob_delta': -0.68, 'is_positive': False, 'task_type': 'generic', 'dataset_id': 'openai/gsm8k', 'dataset_item_id': '1', 'timestamp': datetime.datetime(2025, 5, 13, 14, 51, 23)}\n"
          ]
        }
      ]
    },
    {
      "cell_type": "markdown",
      "source": [
        "Probing"
      ],
      "metadata": {
        "id": "lfKoJjV2nEbt"
      }
    },
    {
      "cell_type": "code",
      "source": [
        "import torch.nn as nn\n",
        "\n",
        "activations = []\n",
        "\n",
        "def get_hook(layer_idx):\n",
        "    def hook_fn(module, input, output):\n",
        "        if isinstance(output, tuple):\n",
        "            activations[layer_idx] = output[0]\n",
        "        else:\n",
        "            activations[layer_idx] = output\n",
        "    return hook_fn\n",
        "\n",
        "\n",
        "\n",
        "layer_num = 12  # Example: 12th transformer block\n",
        "model.model.layers[layer_num].register_forward_hook(get_hook(layer_num))\n",
        "\n"
      ],
      "metadata": {
        "id": "3zXlK2jfnIlc",
        "colab": {
          "base_uri": "https://localhost:8080/"
        },
        "outputId": "b777198a-4b0e-49c7-a2ca-da532d59c7ad"
      },
      "execution_count": 16,
      "outputs": [
        {
          "output_type": "execute_result",
          "data": {
            "text/plain": [
              "<torch.utils.hooks.RemovableHandle at 0x7b21524cee50>"
            ]
          },
          "metadata": {},
          "execution_count": 16
        }
      ]
    },
    {
      "cell_type": "code",
      "source": [
        "import random\n",
        "\n",
        "X = []\n",
        "y = []\n",
        "\n",
        "layers_to_probe = [0, 3, 6, 9, 12, 15, 18, 21, 24, 27]  # Adjust depending on your model depth\n",
        "hooks = []\n",
        "activations = {}\n",
        "\n",
        "# Register hooks BEFORE the dataset loop\n",
        "def get_hook(layer_idx):\n",
        "    def hook_fn(module, input, output):\n",
        "        if isinstance(output, tuple):\n",
        "            activations[layer_idx] = output[0]\n",
        "        else:\n",
        "            activations[layer_idx] = output\n",
        "    return hook_fn\n",
        "\n",
        "for layer_idx in layers_to_probe:\n",
        "    block = model.model.layers[layer_idx]\n",
        "    hooks.append(block.register_forward_hook(get_hook(layer_idx)))\n",
        "\n",
        "# Go through the dataset\n",
        "for sample in dataset:\n",
        "    context = sample[\"pivot_context\"]\n",
        "    pivot_token = sample[\"pivot_token\"]\n",
        "\n",
        "    inputs = tokenizer(context, return_tensors=\"pt\").to(\"cuda\")\n",
        "    token_ids = inputs[\"input_ids\"][0].tolist()\n",
        "\n",
        "    pivot_tok_id = tokenizer(pivot_token, add_special_tokens=False)[\"input_ids\"][0]\n",
        "\n",
        "    # Find the position of the pivot token (first occurrence)\n",
        "    try:\n",
        "        pivot_pos = token_ids.index(pivot_tok_id)\n",
        "    except ValueError:\n",
        "        continue  # pivot token not found in context\n",
        "\n",
        "    # Choose a random negative token that is not the pivot\n",
        "    neg_token_ids = [i for i, tid in enumerate(token_ids) if tid != pivot_tok_id]\n",
        "    if not neg_token_ids:\n",
        "        continue\n",
        "\n",
        "    neg_pos = random.choice(neg_token_ids)\n",
        "\n",
        "    activations.clear()\n",
        "    with torch.no_grad():\n",
        "        _ = model(**inputs)\n",
        "\n",
        "    # Only once per sample\n",
        "    X.append({layer_idx: activations[layer_idx][0, pivot_pos].cpu().numpy()\n",
        "          for layer_idx in layers_to_probe})\n",
        "    y.append(1)\n",
        "\n",
        "    X.append({layer_idx: activations[layer_idx][0, neg_pos].cpu().numpy()\n",
        "          for layer_idx in layers_to_probe})\n",
        "    y.append(0)\n",
        "\n",
        "for layer_idx in layers_to_probe:\n",
        "    # Positive sample\n",
        "    pos_rep = activations[layer_idx][0, pivot_pos]\n",
        "    X.append(pos_rep.cpu().numpy())\n",
        "    y.append(1)\n",
        "\n",
        "    # Negative sample\n",
        "    neg_rep = activations[layer_idx][0, neg_pos]\n",
        "    X.append(neg_rep.cpu().numpy())\n",
        "    y.append(0)\n",
        "\n",
        "\n",
        "# Remove hooks\n",
        "for hook in hooks:\n",
        "    hook.remove()"
      ],
      "metadata": {
        "id": "_odRVfwropDX"
      },
      "execution_count": 32,
      "outputs": []
    },
    {
      "cell_type": "code",
      "source": [
        "import random\n",
        "\n",
        "# After collecting X and y:\n",
        "from collections import Counter\n",
        "from sklearn.utils import resample\n",
        "\n",
        "# Separate\n",
        "X_pos = [x for x, label in zip(X, y) if label == 1]\n",
        "X_neg = [x for x, label in zip(X, y) if label == 0]\n",
        "\n",
        "# Downsample negatives to match positives\n",
        "X_neg_downsampled = resample(X_neg, replace=False, n_samples=len(X_pos), random_state=42)\n",
        "\n",
        "# Combine again\n",
        "X_balanced = X_pos + X_neg_downsampled\n",
        "y_balanced = [1]*len(X_pos) + [0]*len(X_neg_downsampled)\n"
      ],
      "metadata": {
        "id": "dp9XYJHmA5eX"
      },
      "execution_count": 18,
      "outputs": []
    },
    {
      "cell_type": "code",
      "source": [
        "pip install matplotlib\n"
      ],
      "metadata": {
        "colab": {
          "base_uri": "https://localhost:8080/"
        },
        "id": "Jhukkew4ePSP",
        "outputId": "b650766c-4e78-4f6c-a379-a315627adf9f"
      },
      "execution_count": 35,
      "outputs": [
        {
          "output_type": "stream",
          "name": "stdout",
          "text": [
            "Requirement already satisfied: matplotlib in /usr/local/lib/python3.11/dist-packages (3.10.0)\n",
            "Requirement already satisfied: contourpy>=1.0.1 in /usr/local/lib/python3.11/dist-packages (from matplotlib) (1.3.2)\n",
            "Requirement already satisfied: cycler>=0.10 in /usr/local/lib/python3.11/dist-packages (from matplotlib) (0.12.1)\n",
            "Requirement already satisfied: fonttools>=4.22.0 in /usr/local/lib/python3.11/dist-packages (from matplotlib) (4.59.0)\n",
            "Requirement already satisfied: kiwisolver>=1.3.1 in /usr/local/lib/python3.11/dist-packages (from matplotlib) (1.4.8)\n",
            "Requirement already satisfied: numpy>=1.23 in /usr/local/lib/python3.11/dist-packages (from matplotlib) (2.0.2)\n",
            "Requirement already satisfied: packaging>=20.0 in /usr/local/lib/python3.11/dist-packages (from matplotlib) (25.0)\n",
            "Requirement already satisfied: pillow>=8 in /usr/local/lib/python3.11/dist-packages (from matplotlib) (11.3.0)\n",
            "Requirement already satisfied: pyparsing>=2.3.1 in /usr/local/lib/python3.11/dist-packages (from matplotlib) (3.2.3)\n",
            "Requirement already satisfied: python-dateutil>=2.7 in /usr/local/lib/python3.11/dist-packages (from matplotlib) (2.9.0.post0)\n",
            "Requirement already satisfied: six>=1.5 in /usr/local/lib/python3.11/dist-packages (from python-dateutil>=2.7->matplotlib) (1.17.0)\n"
          ]
        }
      ]
    },
    {
      "cell_type": "code",
      "source": [
        "from sklearn.linear_model import LogisticRegression\n",
        "from sklearn.model_selection import train_test_split\n",
        "import numpy as np\n",
        "import matplotlib.pyplot as plt\n",
        "\n",
        "filtered_X = []\n",
        "filtered_y = []\n",
        "\n",
        "# Filter out malformed entries\n",
        "for rep, label in zip(X, y):\n",
        "    valid = True\n",
        "    for layer_idx in layers_to_probe:\n",
        "        if layer_idx not in rep or not isinstance(rep[layer_idx], np.ndarray) or rep[layer_idx].shape != (1024,):\n",
        "            valid = False\n",
        "            break\n",
        "    if valid:\n",
        "        filtered_X.append(rep)\n",
        "        filtered_y.append(label)\n",
        "\n",
        "print(f\"Filtered dataset size: {len(filtered_X)}\")\n",
        "\n",
        "# Track accuracy for each layer\n",
        "layer_accuracies = []\n",
        "\n",
        "for layer_idx in layers_to_probe:\n",
        "    print(f\"\\nChecking layer {layer_idx}\")\n",
        "\n",
        "    # Stack into matrix\n",
        "    layer_X = np.stack([rep[layer_idx] for rep in filtered_X])\n",
        "    X_train, X_test, y_train, y_test = train_test_split(layer_X, filtered_y, test_size=0.2, random_state=42)\n",
        "\n",
        "    # Train probe\n",
        "    clf = LogisticRegression(max_iter=5000)\n",
        "    clf.fit(X_train, y_train)\n",
        "    acc = clf.score(X_test, y_test)\n",
        "    layer_accuracies.append(acc)\n",
        "\n",
        "    print(f\"Layer {layer_idx}: Accuracy = {acc:.3f}\")\n",
        "\n",
        "# Plot accuracy\n",
        "plt.figure(figsize=(8, 5))\n",
        "plt.plot(layers_to_probe, layer_accuracies, marker='o')\n",
        "plt.title(\"Logistic Probe Accuracy per Layer\")\n",
        "plt.xlabel(\"Layer Index\")\n",
        "plt.ylabel(\"Accuracy\")\n",
        "plt.grid(True)\n",
        "plt.tight_layout()\n",
        "plt.show()\n"
      ],
      "metadata": {
        "id": "Q_nVMECGA9oG",
        "colab": {
          "base_uri": "https://localhost:8080/",
          "height": 1000
        },
        "outputId": "aa98d0e4-6a1a-4048-dbcf-1293c0cc8c8e"
      },
      "execution_count": 36,
      "outputs": [
        {
          "output_type": "stream",
          "name": "stdout",
          "text": [
            "Filtered dataset size: 1436\n",
            "\n",
            "Checking layer 0\n",
            "Layer 0: Accuracy = 0.743\n",
            "\n",
            "Checking layer 3\n",
            "Layer 3: Accuracy = 0.760\n",
            "\n",
            "Checking layer 6\n",
            "Layer 6: Accuracy = 0.785\n",
            "\n",
            "Checking layer 9\n",
            "Layer 9: Accuracy = 0.753\n",
            "\n",
            "Checking layer 12\n",
            "Layer 12: Accuracy = 0.767\n",
            "\n",
            "Checking layer 15\n",
            "Layer 15: Accuracy = 0.750\n",
            "\n",
            "Checking layer 18\n",
            "Layer 18: Accuracy = 0.792\n",
            "\n",
            "Checking layer 21\n",
            "Layer 21: Accuracy = 0.736\n",
            "\n",
            "Checking layer 24\n",
            "Layer 24: Accuracy = 0.743\n",
            "\n",
            "Checking layer 27\n",
            "Layer 27: Accuracy = 0.719\n"
          ]
        },
        {
          "output_type": "display_data",
          "data": {
            "text/plain": [
              "<Figure size 800x500 with 1 Axes>"
            ],
            "image/png": "[encoded data removed]"
          },
          "metadata": {}
        }
      ]
    }
  ]
}