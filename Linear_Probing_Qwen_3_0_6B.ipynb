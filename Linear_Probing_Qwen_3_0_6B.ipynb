{
  "nbformat": 4,
  "nbformat_minor": 0,
  "metadata": {
    "colab": {
      "provenance": [],
      "gpuType": "T4",
      "authorship_tag": "ABX9TyPxOyaba/Xvnu1cmFolKDyV",
      "include_colab_link": true
    },
    "kernelspec": {
      "name": "python3",
      "display_name": "Python 3"
    },
    "language_info": {
      "name": "python"
    },
    "accelerator": "GPU"
  },
  "cells": [
    {
      "cell_type": "markdown",
      "metadata": {
        "id": "view-in-github",
        "colab_type": "text"
      },
      "source": [
        "<a href=\"https://colab.research.google.com/github/stvngo/Algoverse-AI-Model-Probing/blob/main/Linear_Probing_Qwen_3_0_6B.ipynb\" target=\"_parent\"><img src=\"https://colab.research.google.com/assets/colab-badge.svg\" alt=\"Open In Colab\"/></a>"
      ]
    },
    {
      "cell_type": "markdown",
      "source": [
        "When a model makes a correct prediction on a task it has been trained on, Probing classifeier can be used to identify if the model actually contains the relevant informatioin or knowledge required to make that prediction, or it is just making a lucky guess\n",
        "- can be used to identify crucial insights for developing better models over time\n"
      ],
      "metadata": {
        "id": "3Wm5GxzVcPox"
      }
    },
    {
      "cell_type": "markdown",
      "source": [
        "### How it works\n",
        "\n",
        "A nn takes it's input as a series of vectors, or representations, and transform them through a series of layers to produce an output\n",
        "- develop representations that useful so that the final few layers of the network can be a good prediction\n",
        "\n",
        "### Probes\n",
        "- a features or representations from the model are easily seperable by a simple classifier ==> a probe\n",
        "The only way the probe can perform well on this task is if the representation it is given are already good enough to make the prediction\n",
        "\n"
      ],
      "metadata": {
        "id": "eDhP_rXhctjL"
      }
    },
    {
      "cell_type": "markdown",
      "source": [
        "## Using Qwen 3 0.6B to extract residual steam activations\n"
      ],
      "metadata": {
        "id": "iC2xl2vOlVYs"
      }
    },
    {
      "cell_type": "code",
      "source": [
        "# Install and load the model\n",
        "!pip install transformers accelerate\n",
        "\n"
      ],
      "metadata": {
        "colab": {
          "base_uri": "https://localhost:8080/"
        },
        "id": "YDHGoa46lexK",
        "outputId": "9917b75f-6f88-4fa4-eaa0-c8ddb30f0421",
        "collapsed": true
      },
      "execution_count": 1,
      "outputs": [
        {
          "output_type": "stream",
          "name": "stdout",
          "text": [
            "Requirement already satisfied: transformers in /usr/local/lib/python3.11/dist-packages (4.53.3)\n",
            "Requirement already satisfied: accelerate in /usr/local/lib/python3.11/dist-packages (1.9.0)\n",
            "Requirement already satisfied: filelock in /usr/local/lib/python3.11/dist-packages (from transformers) (3.18.0)\n",
            "Requirement already satisfied: huggingface-hub<1.0,>=0.30.0 in /usr/local/lib/python3.11/dist-packages (from transformers) (0.33.4)\n",
            "Requirement already satisfied: numpy>=1.17 in /usr/local/lib/python3.11/dist-packages (from transformers) (2.0.2)\n",
            "Requirement already satisfied: packaging>=20.0 in /usr/local/lib/python3.11/dist-packages (from transformers) (25.0)\n",
            "Requirement already satisfied: pyyaml>=5.1 in /usr/local/lib/python3.11/dist-packages (from transformers) (6.0.2)\n",
            "Requirement already satisfied: regex!=2019.12.17 in /usr/local/lib/python3.11/dist-packages (from transformers) (2024.11.6)\n",
            "Requirement already satisfied: requests in /usr/local/lib/python3.11/dist-packages (from transformers) (2.32.3)\n",
            "Requirement already satisfied: tokenizers<0.22,>=0.21 in /usr/local/lib/python3.11/dist-packages (from transformers) (0.21.2)\n",
            "Requirement already satisfied: safetensors>=0.4.3 in /usr/local/lib/python3.11/dist-packages (from transformers) (0.5.3)\n",
            "Requirement already satisfied: tqdm>=4.27 in /usr/local/lib/python3.11/dist-packages (from transformers) (4.67.1)\n",
            "Requirement already satisfied: psutil in /usr/local/lib/python3.11/dist-packages (from accelerate) (5.9.5)\n",
            "Requirement already satisfied: torch>=2.0.0 in /usr/local/lib/python3.11/dist-packages (from accelerate) (2.6.0+cu124)\n",
            "Requirement already satisfied: fsspec>=2023.5.0 in /usr/local/lib/python3.11/dist-packages (from huggingface-hub<1.0,>=0.30.0->transformers) (2025.3.0)\n",
            "Requirement already satisfied: typing-extensions>=3.7.4.3 in /usr/local/lib/python3.11/dist-packages (from huggingface-hub<1.0,>=0.30.0->transformers) (4.14.1)\n",
            "Requirement already satisfied: hf-xet<2.0.0,>=1.1.2 in /usr/local/lib/python3.11/dist-packages (from huggingface-hub<1.0,>=0.30.0->transformers) (1.1.5)\n",
            "Requirement already satisfied: networkx in /usr/local/lib/python3.11/dist-packages (from torch>=2.0.0->accelerate) (3.5)\n",
            "Requirement already satisfied: jinja2 in /usr/local/lib/python3.11/dist-packages (from torch>=2.0.0->accelerate) (3.1.6)\n",
            "Requirement already satisfied: nvidia-cuda-nvrtc-cu12==12.4.127 in /usr/local/lib/python3.11/dist-packages (from torch>=2.0.0->accelerate) (12.4.127)\n",
            "Requirement already satisfied: nvidia-cuda-runtime-cu12==12.4.127 in /usr/local/lib/python3.11/dist-packages (from torch>=2.0.0->accelerate) (12.4.127)\n",
            "Requirement already satisfied: nvidia-cuda-cupti-cu12==12.4.127 in /usr/local/lib/python3.11/dist-packages (from torch>=2.0.0->accelerate) (12.4.127)\n",
            "Requirement already satisfied: nvidia-cudnn-cu12==9.1.0.70 in /usr/local/lib/python3.11/dist-packages (from torch>=2.0.0->accelerate) (9.1.0.70)\n",
            "Requirement already satisfied: nvidia-cublas-cu12==12.4.5.8 in /usr/local/lib/python3.11/dist-packages (from torch>=2.0.0->accelerate) (12.4.5.8)\n",
            "Requirement already satisfied: nvidia-cufft-cu12==11.2.1.3 in /usr/local/lib/python3.11/dist-packages (from torch>=2.0.0->accelerate) (11.2.1.3)\n",
            "Requirement already satisfied: nvidia-curand-cu12==10.3.5.147 in /usr/local/lib/python3.11/dist-packages (from torch>=2.0.0->accelerate) (10.3.5.147)\n",
            "Requirement already satisfied: nvidia-cusolver-cu12==11.6.1.9 in /usr/local/lib/python3.11/dist-packages (from torch>=2.0.0->accelerate) (11.6.1.9)\n",
            "Requirement already satisfied: nvidia-cusparse-cu12==12.3.1.170 in /usr/local/lib/python3.11/dist-packages (from torch>=2.0.0->accelerate) (12.3.1.170)\n",
            "Requirement already satisfied: nvidia-cusparselt-cu12==0.6.2 in /usr/local/lib/python3.11/dist-packages (from torch>=2.0.0->accelerate) (0.6.2)\n",
            "Requirement already satisfied: nvidia-nccl-cu12==2.21.5 in /usr/local/lib/python3.11/dist-packages (from torch>=2.0.0->accelerate) (2.21.5)\n",
            "Requirement already satisfied: nvidia-nvtx-cu12==12.4.127 in /usr/local/lib/python3.11/dist-packages (from torch>=2.0.0->accelerate) (12.4.127)\n",
            "Requirement already satisfied: nvidia-nvjitlink-cu12==12.4.127 in /usr/local/lib/python3.11/dist-packages (from torch>=2.0.0->accelerate) (12.4.127)\n",
            "Requirement already satisfied: triton==3.2.0 in /usr/local/lib/python3.11/dist-packages (from torch>=2.0.0->accelerate) (3.2.0)\n",
            "Requirement already satisfied: sympy==1.13.1 in /usr/local/lib/python3.11/dist-packages (from torch>=2.0.0->accelerate) (1.13.1)\n",
            "Requirement already satisfied: mpmath<1.4,>=1.1.0 in /usr/local/lib/python3.11/dist-packages (from sympy==1.13.1->torch>=2.0.0->accelerate) (1.3.0)\n",
            "Requirement already satisfied: charset-normalizer<4,>=2 in /usr/local/lib/python3.11/dist-packages (from requests->transformers) (3.4.2)\n",
            "Requirement already satisfied: idna<4,>=2.5 in /usr/local/lib/python3.11/dist-packages (from requests->transformers) (3.10)\n",
            "Requirement already satisfied: urllib3<3,>=1.21.1 in /usr/local/lib/python3.11/dist-packages (from requests->transformers) (2.5.0)\n",
            "Requirement already satisfied: certifi>=2017.4.17 in /usr/local/lib/python3.11/dist-packages (from requests->transformers) (2025.7.14)\n",
            "Requirement already satisfied: MarkupSafe>=2.0 in /usr/local/lib/python3.11/dist-packages (from jinja2->torch>=2.0.0->accelerate) (3.0.2)\n"
          ]
        }
      ]
    },
    {
      "cell_type": "code",
      "source": [
        "# download the file using wget\n",
        "!wget https://huggingface.co/datasets/codelion/Qwen3-0.6B-pts/raw/main/pivotal_tokens.jsonl -O pivotal_tokens.jsonl\n"
      ],
      "metadata": {
        "colab": {
          "base_uri": "https://localhost:8080/"
        },
        "id": "_VSqhgRHpzYM",
        "outputId": "0ae9bddd-df23-4987-d1db-617aea9408d2"
      },
      "execution_count": 2,
      "outputs": [
        {
          "output_type": "stream",
          "name": "stdout",
          "text": [
            "--2025-07-26 21:30:16--  https://huggingface.co/datasets/codelion/Qwen3-0.6B-pts/raw/main/pivotal_tokens.jsonl\n",
            "Resolving huggingface.co (huggingface.co)... 13.35.202.34, 13.35.202.121, 13.35.202.97, ...\n",
            "Connecting to huggingface.co (huggingface.co)|13.35.202.34|:443... connected.\n",
            "HTTP request sent, awaiting response... 200 OK\n",
            "Length: 1466895 (1.4M) [text/plain]\n",
            "Saving to: ‘pivotal_tokens.jsonl’\n",
            "\n",
            "pivotal_tokens.json 100%[===================>]   1.40M  3.23MB/s    in 0.4s    \n",
            "\n",
            "2025-07-26 21:30:17 (3.23 MB/s) - ‘pivotal_tokens.jsonl’ saved [1466895/1466895]\n",
            "\n"
          ]
        }
      ]
    },
    {
      "cell_type": "code",
      "source": [
        "# loading the transformers\n",
        "import torch\n",
        "import torch.nn as nn\n",
        "from torch.utils.data import Dataset, DataLoader, random_split, TensorDataset\n",
        "from transformers import AutoTokenizer, AutoModelForCausalLM\n",
        "from datasets import load_dataset\n",
        "import random\n",
        "from tqdm import tqdm\n",
        "import numpy as np\n",
        "import json\n",
        "import os\n",
        "\n",
        "# Debug: Check if file exists\n",
        "file_path = \"pivotal_tokens.jsonl\"\n",
        "print(f\"Checking file: {file_path}\")\n",
        "print(f\"File exists: {os.path.exists(file_path)}\")\n",
        "\n",
        "if os.path.exists(file_path):\n",
        "    print(f\"File size: {os.path.getsize(file_path)} bytes\")\n",
        "\n",
        "    # Check first few lines of the file\n",
        "    print(\"\\nFirst 3 lines of the file:\")\n",
        "    with open(file_path, \"r\") as f:\n",
        "        for i, line in enumerate(f):\n",
        "            if i < 3:\n",
        "                print(f\"Line {i+1}: {line[:100]}...\")  # Show first 100 chars\n",
        "            else:\n",
        "                break\n",
        "else:\n",
        "    print(\"ERROR: File does not exist!\")\n",
        "    print(\"Current working directory:\", os.getcwd())\n",
        "    print(\"Files in current directory:\", os.listdir(\".\"))\n",
        "\n",
        "# Load dataset with debugging\n",
        "print(\"\\nAttempting to load data...\")\n",
        "pts_data = []\n",
        "\n",
        "try:\n",
        "    with open(\"pivotal_tokens.jsonl\", \"r\") as f:\n",
        "        line_count = 0\n",
        "        for line_num, line in enumerate(f, 1):\n",
        "            line = line.strip()\n",
        "            if not line:  # Skip empty lines\n",
        "                print(f\"Skipping empty line {line_num}\")\n",
        "                continue\n",
        "\n",
        "            try:\n",
        "                data = json.loads(line)\n",
        "                pts_data.append(data)\n",
        "                line_count += 1\n",
        "\n",
        "                # Show first entry structure\n",
        "                if line_count == 1:\n",
        "                    print(f\"First entry keys: {list(data.keys())}\")\n",
        "                    print(f\"First entry: {data}\")\n",
        "\n",
        "            except json.JSONDecodeError as e:\n",
        "                print(f\"JSON decode error on line {line_num}: {e}\")\n",
        "                print(f\"Problematic line: {line[:200]}...\")\n",
        "                continue\n",
        "\n",
        "    print(f\"\\nSuccessfully loaded {len(pts_data)} entries\")\n",
        "\n",
        "    if len(pts_data) > 0:\n",
        "        # Check data structure\n",
        "        first_entry = pts_data[0]\n",
        "        print(f\"First entry type: {type(first_entry)}\")\n",
        "\n",
        "        # Check for required keys\n",
        "        required_keys = [\"response\", \"pivotal_tokens\"]\n",
        "        for key in required_keys:\n",
        "            if key in first_entry:\n",
        "                print(f\"✓ Has '{key}' key\")\n",
        "                if key == \"response\":\n",
        "                    print(f\"  Response length: {len(first_entry[key])}\")\n",
        "                    print(f\"  Response preview: {first_entry[key][:100]}...\")\n",
        "                elif key == \"pivotal_tokens\":\n",
        "                    print(f\"  Pivotal tokens: {first_entry[key]}\")\n",
        "            else:\n",
        "                print(f\"✗ Missing '{key}' key\")\n",
        "\n",
        "        print(f\"All keys in first entry: {list(first_entry.keys())}\")\n",
        "    else:\n",
        "        print(\"No data loaded!\")\n",
        "\n",
        "except FileNotFoundError:\n",
        "    print(\"ERROR: File 'pivotal_tokens.jsonl' not found!\")\n",
        "except Exception as e:\n",
        "    print(f\"ERROR loading data: {e}\")\n",
        "    import traceback\n",
        "    traceback.print_exc()\n",
        "\n",
        "print(f\"\\nFinal pts_data length: {len(pts_data)}\")\n",
        "\n",
        "# Only continue with model loading if we have data\n",
        "if len(pts_data) > 0:\n",
        "    print(\"Data loaded successfully, proceeding with model loading...\")\n",
        "\n",
        "    # Set seed\n",
        "    torch.manual_seed(42)\n",
        "    random.seed(42)\n",
        "\n",
        "    # Load Qwen 0.6B\n",
        "    print(\"Loading model...\")\n",
        "    model_name = \"Qwen/Qwen3-0.6B\"\n",
        "    tokenizer = AutoTokenizer.from_pretrained(model_name, trust_remote_code=True)\n",
        "    model = AutoModelForCausalLM.from_pretrained(model_name, device_map=\"auto\", trust_remote_code=True)\n",
        "    model.eval()\n",
        "    print(\"Model loaded successfully!\")\n",
        "\n",
        "    # Example query\n",
        "    query = \"What is the capital of France?\"\n",
        "    inputs = tokenizer(query, return_tensors=\"pt\").to(\"cuda\")\n",
        "\n",
        "    #Generation\n",
        "    output_ids = model.generate(\n",
        "        inputs[\"input_ids\"],\n",
        "        do_sample=True,\n",
        "        temperature=0.6,\n",
        "        top_p=1.0,\n",
        "        top_k=50,\n",
        "        max_new_tokens=100,\n",
        "    )\n",
        "\n",
        "    # We'll extract hidden states from layer 16\n",
        "    LAYER_TO_HOOK = 15\n",
        "\n",
        "    output_text = tokenizer.decode(output_ids[0], skip_special_tokens=True)\n",
        "    print(\"Generated text:\", output_text)\n",
        "\n",
        "    # Run the model to get the hidden states or logits\n",
        "    with torch.no_grad():\n",
        "        outputs = model(**inputs)\n",
        "\n",
        "else:\n",
        "    print(\"Cannot proceed without data. Please check the file and try again.\")"
      ],
      "metadata": {
        "colab": {
          "base_uri": "https://localhost:8080/"
        },
        "id": "6koAhNBhl0HQ",
        "outputId": "a0f2be70-aad7-4099-d4c1-fb0ba0814a99"
      },
      "execution_count": 3,
      "outputs": [
        {
          "output_type": "stream",
          "name": "stdout",
          "text": [
            "Checking file: pivotal_tokens.jsonl\n",
            "File exists: True\n",
            "File size: 1466895 bytes\n",
            "\n",
            "First 3 lines of the file:\n",
            "Line 1: {\"model_id\": \"Qwen/Qwen3-0.6B\", \"query\": \"A tomato plant has 100 tomatoes. Jane picks 1/4 of that nu...\n",
            "Line 2: {\"model_id\": \"Qwen/Qwen3-0.6B\", \"query\": \"A tomato plant has 100 tomatoes. Jane picks 1/4 of that nu...\n",
            "Line 3: {\"model_id\": \"Qwen/Qwen3-0.6B\", \"query\": \"A tomato plant has 100 tomatoes. Jane picks 1/4 of that nu...\n",
            "\n",
            "Attempting to load data...\n",
            "First entry keys: ['model_id', 'query', 'pivot_context', 'pivot_token', 'pivot_token_id', 'prob_before', 'prob_after', 'prob_delta', 'is_positive', 'task_type', 'dataset_id', 'dataset_item_id', 'timestamp']\n",
            "First entry: {'model_id': 'Qwen/Qwen3-0.6B', 'query': \"A tomato plant has 100 tomatoes. Jane picks 1/4 of that number for use in their house. After a week, she goes back and picks 20 more tomatoes, and the following week picks twice that number. What's the total number of fruits remaining on the tomato plant?\", 'pivot_context': \"A tomato plant has 100 tomatoes. Jane picks 1/4 of that number for use in their house. After a week, she goes back and picks 20 more tomatoes, and the following week picks twice that number. What's the total number of fruits remaining on the tomato plant? Let me think this through.\\n\\nOkay, let's see. There are 100 tomatoes on the plant. Jane picks 1/4 of that first. So, 1/4 of 100 is 25. So, after the first pick, there are 100 - 25 = 75 tomatoes left.\\n\\nThen, after a week, she goes back and picks 20 more tomatoes. So,\", 'pivot_token': ' ', 'pivot_token_id': 220, 'prob_before': 0.1, 'prob_after': 0.6, 'prob_delta': 0.5, 'is_positive': True, 'task_type': 'generic', 'dataset_id': 'codelion/optillmbench', 'dataset_item_id': '3', 'timestamp': '2025-05-09T06:32:42'}\n",
            "\n",
            "Successfully loaded 971 entries\n",
            "First entry type: <class 'dict'>\n",
            "✗ Missing 'response' key\n",
            "✗ Missing 'pivotal_tokens' key\n",
            "All keys in first entry: ['model_id', 'query', 'pivot_context', 'pivot_token', 'pivot_token_id', 'prob_before', 'prob_after', 'prob_delta', 'is_positive', 'task_type', 'dataset_id', 'dataset_item_id', 'timestamp']\n",
            "\n",
            "Final pts_data length: 971\n",
            "Data loaded successfully, proceeding with model loading...\n",
            "Loading model...\n"
          ]
        },
        {
          "output_type": "stream",
          "name": "stderr",
          "text": [
            "/usr/local/lib/python3.11/dist-packages/huggingface_hub/utils/_auth.py:94: UserWarning: \n",
            "The secret `HF_TOKEN` does not exist in your Colab secrets.\n",
            "To authenticate with the Hugging Face Hub, create a token in your settings tab (https://huggingface.co/settings/tokens), set it as secret in your Google Colab and restart your session.\n",
            "You will be able to reuse this secret in all of your notebooks.\n",
            "Please note that authentication is recommended but still optional to access public models or datasets.\n",
            "  warnings.warn(\n",
            "The attention mask is not set and cannot be inferred from input because pad token is same as eos token. As a consequence, you may observe unexpected behavior. Please pass your input's `attention_mask` to obtain reliable results.\n"
          ]
        },
        {
          "output_type": "stream",
          "name": "stdout",
          "text": [
            "Model loaded successfully!\n",
            "Generated text: What is the capital of France? The correct answer is Paris. What is the capital of China? The correct answer is Beijing. What is the capital of Japan? The correct answer is Tokyo. What is the capital of India? The correct answer is New Delhi. What is the capital of Brazil? The correct answer is Rio de Janeiro. What is the capital of Argentina? The correct answer is Buenos Aires. What is the capital of Nigeria? The correct answer is Abuja. What is the capital of Mexico? The correct answer is\n"
          ]
        }
      ]
    },
    {
      "cell_type": "code",
      "source": [
        "print(model)"
      ],
      "metadata": {
        "colab": {
          "base_uri": "https://localhost:8080/"
        },
        "id": "vLFktIaQnNn9",
        "outputId": "fb26cc74-ecec-4c6a-93b4-2061c15353d7",
        "collapsed": true
      },
      "execution_count": 4,
      "outputs": [
        {
          "output_type": "stream",
          "name": "stdout",
          "text": [
            "Qwen3ForCausalLM(\n",
            "  (model): Qwen3Model(\n",
            "    (embed_tokens): Embedding(151936, 1024)\n",
            "    (layers): ModuleList(\n",
            "      (0-27): 28 x Qwen3DecoderLayer(\n",
            "        (self_attn): Qwen3Attention(\n",
            "          (q_proj): Linear(in_features=1024, out_features=2048, bias=False)\n",
            "          (k_proj): Linear(in_features=1024, out_features=1024, bias=False)\n",
            "          (v_proj): Linear(in_features=1024, out_features=1024, bias=False)\n",
            "          (o_proj): Linear(in_features=2048, out_features=1024, bias=False)\n",
            "          (q_norm): Qwen3RMSNorm((128,), eps=1e-06)\n",
            "          (k_norm): Qwen3RMSNorm((128,), eps=1e-06)\n",
            "        )\n",
            "        (mlp): Qwen3MLP(\n",
            "          (gate_proj): Linear(in_features=1024, out_features=3072, bias=False)\n",
            "          (up_proj): Linear(in_features=1024, out_features=3072, bias=False)\n",
            "          (down_proj): Linear(in_features=3072, out_features=1024, bias=False)\n",
            "          (act_fn): SiLU()\n",
            "        )\n",
            "        (input_layernorm): Qwen3RMSNorm((1024,), eps=1e-06)\n",
            "        (post_attention_layernorm): Qwen3RMSNorm((1024,), eps=1e-06)\n",
            "      )\n",
            "    )\n",
            "    (norm): Qwen3RMSNorm((1024,), eps=1e-06)\n",
            "    (rotary_emb): Qwen3RotaryEmbedding()\n",
            "  )\n",
            "  (lm_head): Linear(in_features=1024, out_features=151936, bias=False)\n",
            ")\n"
          ]
        }
      ]
    },
    {
      "cell_type": "markdown",
      "source": [
        "## PTSProbeDataset\n",
        "1. Loads PTS samples(```text```, ```pivotal_tokens```)\n",
        "2. Tokenizes using Qwen tokenizer\n",
        "3. Captures residual activations at a chosen layer\n",
        "4. Aligns pivotal tokens to labels\n",
        "5. Returns(activation, is_pivotal_label) pairs"
      ],
      "metadata": {
        "id": "13j1bxmjMiz-"
      }
    },
    {
      "cell_type": "code",
      "source": [
        "class PTSProbeDataset(Dataset):\n",
        "    def __init__(self, samples, tokenizer, model, layer_index=15):\n",
        "        self.samples = samples\n",
        "        self.tokenizer = tokenizer\n",
        "        self.model = model\n",
        "        self.layer_index = layer_index\n",
        "        self.residuals = []\n",
        "        self.labels = []\n",
        "\n",
        "        # Debug: Check initial data\n",
        "        print(f\"Initializing dataset with {len(samples)} samples\")\n",
        "        if len(samples) > 0:\n",
        "            print(f\"First sample keys: {list(samples[0].keys())}\")\n",
        "            print(f\"Sample has 'pivot_context': {'pivot_context' in samples[0]}\")\n",
        "            print(f\"Sample has 'pivot_token': {'pivot_token' in samples[0]}\")\n",
        "\n",
        "        self._prepare_data()\n",
        "\n",
        "    def _get_activations_for_sample(self, encoded_input):\n",
        "        # Method 1: Using hooks (fixed version)\n",
        "        try:\n",
        "            activations = {}\n",
        "\n",
        "            def hook_fn(module, input, output):\n",
        "                # Handle case where output might be a tuple (hidden_states, attention_weights, etc.)\n",
        "                if isinstance(output, tuple):\n",
        "                    # For most transformer layers, hidden states are the first element\n",
        "                    activations[\"residual\"] = output[0].detach()\n",
        "                else:\n",
        "                    activations[\"residual\"] = output.detach()\n",
        "\n",
        "            handle = self.model.model.layers[self.layer_index].register_forward_hook(hook_fn)\n",
        "\n",
        "            with torch.no_grad():\n",
        "                self.model(**encoded_input)\n",
        "\n",
        "            handle.remove()\n",
        "\n",
        "            return activations[\"residual\"]\n",
        "\n",
        "        except Exception as e:\n",
        "            # Method 2: Fallback - use model's output_hidden_states\n",
        "            print(f\"Hook method failed ({e}), trying output_hidden_states...\")\n",
        "            with torch.no_grad():\n",
        "                outputs = self.model(**encoded_input, output_hidden_states=True)\n",
        "                # hidden_states is a tuple of (embedding_layer, layer_0, layer_1, ..., layer_n)\n",
        "                # So layer_index corresponds to outputs.hidden_states[layer_index + 1]\n",
        "                return outputs.hidden_states[self.layer_index + 1].detach()\n",
        "\n",
        "    def _prepare_data(self):\n",
        "        skipped_empty_resid = 0\n",
        "        skipped_empty_labels = 0\n",
        "        skipped_misalignment = 0\n",
        "        skipped_no_context = 0\n",
        "        skipped_no_pivot = 0\n",
        "        successful_samples = 0\n",
        "\n",
        "        for i, example in enumerate(tqdm(self.samples)):\n",
        "            # Check for PTS format keys\n",
        "            if \"pivot_context\" not in example:\n",
        "                print(f\"Sample {i}: Missing 'pivot_context' key\")\n",
        "                skipped_no_context += 1\n",
        "                continue\n",
        "\n",
        "            if \"pivot_token\" not in example:\n",
        "                print(f\"Sample {i}: Missing 'pivot_token' key\")\n",
        "                skipped_no_pivot += 1\n",
        "                continue\n",
        "\n",
        "            # Use PTS format fields\n",
        "            text = example[\"pivot_context\"]\n",
        "            pivot_token = example[\"pivot_token\"].strip()\n",
        "\n",
        "            # Debug: Check text and pivot token\n",
        "            if not text or not text.strip():\n",
        "                print(f\"Sample {i}: Empty pivot_context\")\n",
        "                skipped_no_context += 1\n",
        "                continue\n",
        "\n",
        "            # Enhanced pivot token validation\n",
        "            if not pivot_token or len(pivot_token) <= 1:  # Skip single characters and spaces\n",
        "                if i < 10:  # Only print for first 10 samples to avoid spam\n",
        "                    print(f\"Sample {i}: Pivot token too short or empty: '{pivot_token}'\")\n",
        "                skipped_no_pivot += 1\n",
        "                continue\n",
        "\n",
        "            if i < 3:  # Debug first few samples\n",
        "                print(f\"Sample {i}: Processing text of length {len(text)}\")\n",
        "                print(f\"  Pivot token: '{pivot_token}'\")\n",
        "                print(f\"  Text preview: {text[:100]}...\")\n",
        "\n",
        "            try:\n",
        "                encoded = self.tokenizer(\n",
        "                    text, return_offsets_mapping=True, return_tensors=\"pt\", truncation=True\n",
        "                )\n",
        "                offsets = encoded[\"offset_mapping\"][0].tolist()\n",
        "\n",
        "                # Debug: Check tokenization\n",
        "                if i < 3:\n",
        "                    print(f\"Sample {i}: Tokenized to {len(offsets)} tokens\")\n",
        "\n",
        "                # Move to device (check what device model is on)\n",
        "                device = next(self.model.parameters()).device\n",
        "                encoded = {k: v.to(device) for k, v in encoded.items() if k != \"offset_mapping\"}\n",
        "\n",
        "                resid = self._get_activations_for_sample(encoded).squeeze(0)\n",
        "\n",
        "                # Debug: Check activations\n",
        "                if i < 3:\n",
        "                    print(f\"Sample {i}: Got residuals shape {resid.shape}\")\n",
        "\n",
        "                # Create binary labels: 1 if token contains the pivot token, 0 otherwise\n",
        "                token_labels = []\n",
        "                pivot_token_lower = pivot_token.lower()\n",
        "\n",
        "                for j, (start, end) in enumerate(offsets):\n",
        "                    if start == 0 and end == 0:  # Special tokens\n",
        "                        token_labels.append(0)\n",
        "                    else:\n",
        "                        token_text = text[start:end].lower()\n",
        "                        # Check if this token matches or contains the pivot token\n",
        "                        is_pivotal = int(pivot_token_lower in token_text or token_text in pivot_token_lower)\n",
        "                        token_labels.append(is_pivotal)\n",
        "\n",
        "                        # Debug: Print token matches for first few samples\n",
        "                        if i < 3 and is_pivotal:\n",
        "                            print(f\"  Found pivot match - Token {j}: '{token_text}' matches '{pivot_token_lower}'\")\n",
        "\n",
        "                token_labels = torch.tensor(token_labels, dtype=torch.float)\n",
        "\n",
        "                # Debug: Check labels\n",
        "                if i < 3:\n",
        "                    print(f\"Sample {i}: Created {len(token_labels)} labels, {token_labels.sum().item()} are pivotal\")\n",
        "\n",
        "                # Validation checks\n",
        "                if resid.shape[0] == 0:\n",
        "                    print(f\"Sample {i}: Skipping - empty residuals\")\n",
        "                    skipped_empty_resid += 1\n",
        "                    continue\n",
        "                elif len(token_labels) == 0:\n",
        "                    print(f\"Sample {i}: Skipping - empty labels\")\n",
        "                    skipped_empty_labels += 1\n",
        "                    continue\n",
        "                elif len(token_labels) != resid.shape[0]:\n",
        "                    print(f\"Sample {i}: Skipping - misalignment: token={len(token_labels)}, activations={resid.shape[0]}\")\n",
        "                    skipped_misalignment += 1\n",
        "                    continue\n",
        "\n",
        "                self.residuals.append(resid.cpu())\n",
        "                self.labels.append(token_labels)\n",
        "                successful_samples += 1\n",
        "\n",
        "                if i < 3:\n",
        "                    print(f\"Sample {i}: Successfully added to dataset\")\n",
        "\n",
        "            except Exception as e:\n",
        "                print(f\"Sample {i}: Error during processing: {str(e)}\")\n",
        "                import traceback\n",
        "                traceback.print_exc()\n",
        "                continue\n",
        "\n",
        "        # Final debug summary\n",
        "        print(f\"\\n=== Dataset Preparation Summary ===\")\n",
        "        print(f\"Total input samples: {len(self.samples)}\")\n",
        "        print(f\"Successful samples: {successful_samples}\")\n",
        "        print(f\"Skipped - no pivot_context: {skipped_no_context}\")\n",
        "        print(f\"Skipped - no pivot_token: {skipped_no_pivot}\")\n",
        "        print(f\"Skipped - empty residuals: {skipped_empty_resid}\")\n",
        "        print(f\"Skipped - empty labels: {skipped_empty_labels}\")\n",
        "        print(f\"Skipped - misalignment: {skipped_misalignment}\")\n",
        "        print(f\"Final dataset size: {len(self.residuals)}\")\n",
        "\n",
        "    def __len__(self):\n",
        "        return len(self.residuals)\n",
        "\n",
        "    def __getitem__(self, idx):\n",
        "        return self.residuals[idx], self.labels[idx]"
      ],
      "metadata": {
        "id": "6L2OZP2-NSjn"
      },
      "execution_count": 5,
      "outputs": []
    },
    {
      "cell_type": "markdown",
      "source": [
        "### Create Train/Val Dataloaders\n",
        "\n",
        "\n",
        "\n",
        "\n"
      ],
      "metadata": {
        "id": "btDzLhdnVkws"
      }
    },
    {
      "cell_type": "code",
      "source": [
        "def flatten_collate(batch):\n",
        "    \"\"\"\n",
        "    Custom collate function that flattens variable-length sequences.\n",
        "\n",
        "    Input: batch = [(residuals_1, labels_1), (residuals_2, labels_2), ...]\n",
        "           where residuals_i has shape [seq_len_i, 1024] and labels_i has shape [seq_len_i]\n",
        "\n",
        "    Output: (flattened_residuals, flattened_labels)\n",
        "            where shapes are [total_tokens, 1024] and [total_tokens]\n",
        "    \"\"\"\n",
        "    residuals_list = []\n",
        "    labels_list = []\n",
        "\n",
        "    for residuals, labels in batch:\n",
        "        residuals_list.append(residuals)\n",
        "        labels_list.append(labels)\n",
        "\n",
        "    # Concatenate all sequences into one big tensor\n",
        "    flattened_residuals = torch.cat(residuals_list, dim=0)  # [total_tokens, 1024]\n",
        "    flattened_labels = torch.cat(labels_list, dim=0)        # [total_tokens]\n",
        "\n",
        "    return flattened_residuals, flattened_labels\n",
        "\n",
        "# Updated create_dataloaders function\n",
        "def create_dataloaders(dataset, split_ratio=0.8, batch_size=32, shuffle=True):\n",
        "    total = len(dataset)\n",
        "    train_size = int(total * split_ratio)\n",
        "    val_size = total - train_size\n",
        "    train_ds, val_ds = random_split(dataset, [train_size, val_size])\n",
        "\n",
        "    # Use custom collate function\n",
        "    train_loader = DataLoader(\n",
        "        train_ds,\n",
        "        batch_size=batch_size,\n",
        "        shuffle=shuffle,\n",
        "        collate_fn=flatten_collate\n",
        "    )\n",
        "    val_loader = DataLoader(\n",
        "        val_ds,\n",
        "        batch_size=batch_size,\n",
        "        shuffle=False,\n",
        "        collate_fn=flatten_collate\n",
        "    )\n",
        "\n",
        "    return train_loader, val_loader\n",
        "\n",
        "# Alternative: Reduce batch size to minimize memory usage\n",
        "def create_dataloaders_small_batch(dataset, split_ratio=0.8, batch_size=8, shuffle=True):\n",
        "    \"\"\"Version with smaller batch size for large datasets\"\"\"\n",
        "    total = len(dataset)\n",
        "    train_size = int(total * split_ratio)\n",
        "    val_size = total - train_size\n",
        "    train_ds, val_ds = random_split(dataset, [train_size, val_size])\n",
        "\n",
        "    train_loader = DataLoader(\n",
        "        train_ds,\n",
        "        batch_size=batch_size,  # Smaller batch size\n",
        "        shuffle=shuffle,\n",
        "        collate_fn=flatten_collate\n",
        "    )\n",
        "    val_loader = DataLoader(\n",
        "        val_ds,\n",
        "        batch_size=batch_size,\n",
        "        shuffle=False,\n",
        "        collate_fn=flatten_collate\n",
        "    )\n",
        "\n",
        "    return train_loader, val_loader\n"
      ],
      "metadata": {
        "id": "FrElxE0EVSxp"
      },
      "execution_count": 11,
      "outputs": []
    },
    {
      "cell_type": "markdown",
      "source": [
        "## The probe\n"
      ],
      "metadata": {
        "id": "L8N_njKp-6H5"
      }
    },
    {
      "cell_type": "code",
      "source": [
        "## Create the Linear\n",
        "# Define the probe ==> a linear layer + sigmoid\n",
        "\n",
        "import torch.nn as nn\n",
        "\n",
        "class LinearProbe(nn.Module):\n",
        "  def __init__(self, hidden_dim=1024):\n",
        "    super().__init__()\n",
        "    self.linear = nn.Linear(hidden_dim, 1)\n",
        "    self.sigmoid = nn.Sigmoid()\n",
        "\n",
        "  def forward(self, x):\n",
        "    x = self.linear(x)\n",
        "    x = self.sigmoid(x).squeeze(-1)\n",
        "    return x"
      ],
      "metadata": {
        "id": "RWzEQBWPOgiY"
      },
      "execution_count": 12,
      "outputs": []
    },
    {
      "cell_type": "markdown",
      "source": [
        "## Train the probe\n"
      ],
      "metadata": {
        "id": "Jvak5eXNHoJE"
      }
    },
    {
      "cell_type": "code",
      "source": [
        "import torch.nn.functional as F\n",
        "import torch.nn as nn\n",
        "import torch\n",
        "\n",
        "def train_probe(probe, dataloader, num_epochs=5, lr=1e-3, verbose=True, device=\"cuda\"):\n",
        "    \"\"\"\n",
        "    Trains a probe on residual activations with binary labels.\n",
        "\n",
        "    Args:\n",
        "        probe (nn.Module): The probe model (e.g., LinearProbe)\n",
        "        dataloader (DataLoader): Yields batches of (residuals, labels)\n",
        "        num_epochs (int): Number of training epochs\n",
        "        lr (float): Learning rate\n",
        "        verbose (bool): Whether to print training logs\n",
        "    \"\"\"\n",
        "    probe = probe.to(device)\n",
        "    probe.train()\n",
        "\n",
        "    optimizer = torch.optim.Adam(probe.parameters(), lr=lr)\n",
        "    loss_fn = nn.BCELoss()\n",
        "\n",
        "    for epoch in range(num_epochs):\n",
        "        total_loss = 0.0\n",
        "        correct, total = 0, 0\n",
        "\n",
        "        for x, y in dataloader:\n",
        "            x = x.to(device)\n",
        "            y = y.to(device)\n",
        "\n",
        "            optimizer.zero_grad()\n",
        "            preds = probe(x)  # shape: [batch_size, 1]\n",
        "            loss = loss_fn(preds, y)\n",
        "            loss.backward()\n",
        "            optimizer.step()\n",
        "\n",
        "            total_loss += loss.item()\n",
        "\n",
        "            # Binary classification accuracy\n",
        "            predicted = (preds >= 0.5).long()\n",
        "            correct += (predicted == y.long()).sum().item()\n",
        "            total += y.size(0)\n",
        "\n",
        "        acc = correct / total\n",
        "        if verbose:\n",
        "            print(f\"Epoch {epoch+1}: Loss = {total_loss:.4f} | Accuracy = {acc:.4f}\")\n"
      ],
      "metadata": {
        "id": "dtMrzh87Hq_p",
        "collapsed": true
      },
      "execution_count": 13,
      "outputs": []
    },
    {
      "cell_type": "markdown",
      "source": [
        "## Evaluate the probe\n"
      ],
      "metadata": {
        "id": "XhSDDs8LlEdo"
      }
    },
    {
      "cell_type": "code",
      "source": [
        "def evaluate_probe(probe, dataloader, device=\"cuda\", verbose=False):\n",
        "    \"\"\"\n",
        "    Evaluates a probe on residual activations with binary labels.\n",
        "\n",
        "    Args:\n",
        "        probe (nn.Module): The probe model (e.\n",
        "        dataloader (DataLoader): Yields batches of (residuals, labels)\n",
        "        device (str): Device to run the evaluation on\n",
        "    \"\"\"\n",
        "    probe.eval()\n",
        "    correct, total = 0, 0\n",
        "    with torch.no_grad():\n",
        "        for xb, yb in dataloader:\n",
        "            xb = xb.to(device)\n",
        "            yb = yb.to(device)\n",
        "            preds = probe(xb)\n",
        "            predicted = (preds >= 0.5).long()\n",
        "            correct += (predicted == yb.long()).sum().item()\n",
        "            total += yb.size(0)\n",
        "    acc = correct / total\n",
        "    if verbose:\n",
        "      print(f\"Accuracy: {acc:.4f}\")\n",
        "    return acc"
      ],
      "metadata": {
        "id": "wew4F9wUlH7Q"
      },
      "execution_count": 16,
      "outputs": []
    },
    {
      "cell_type": "markdown",
      "source": [
        "## Run the full pipeline\n"
      ],
      "metadata": {
        "id": "X0UCRposls-H"
      }
    },
    {
      "cell_type": "code",
      "source": [
        "# choosing a layer\n",
        "layer_index = 15\n",
        "\n",
        "# Reload data to be safe (don't rely on existing variable)\n",
        "with open(\"pivotal_tokens.jsonl\", \"r\") as f:\n",
        "    pts_data = [json.loads(line) for line in f]\n",
        "\n",
        "print(f\"Loaded {len(pts_data)} original entries\")\n",
        "\n",
        "# Optional filtering (might not be needed)\n",
        "# filtered_data = [\n",
        "#     ex for ex in pts_data\n",
        "#     if \"pivot_context\" in ex and \"pivot_token\" in ex and len(ex[\"pivot_context\"].strip()) > 0\n",
        "# ]\n",
        "\n",
        "# For now, skip filtering and use all data\n",
        "print(f\"Number of examples: {len(pts_data)}\")\n",
        "\n",
        "probe_dataset = PTSProbeDataset(pts_data, tokenizer, model, layer_index=layer_index)\n",
        "print(f\"Number of usable examples: {len(probe_dataset)}\")\n",
        "\n",
        "if len(probe_dataset) > 0:\n",
        "    train_loader, val_loader = create_dataloaders(probe_dataset, split_ratio=0.8)\n",
        "\n",
        "    # Initialize the probe using the hidden dimension of Qwen-0.6B(1024)\n",
        "    hidden_size = probe_dataset[0][0].shape[1]\n",
        "    probe = LinearProbe(hidden_dim=hidden_size)\n",
        "\n",
        "    # Train the probe\n",
        "    train_probe(probe, dataloader=train_loader, num_epochs=5, lr=1e-3, verbose=True, device=\"cuda\")\n",
        "\n",
        "    # Evaluate the probe\n",
        "    evaluate_probe(probe, val_loader, device=\"cuda\")\n",
        "else:\n",
        "    print(\"No usable examples in dataset!\")"
      ],
      "metadata": {
        "colab": {
          "base_uri": "https://localhost:8080/"
        },
        "id": "MOEDxtE3lmDV",
        "outputId": "4714b3cb-d827-4da0-c328-46d41e3b7300"
      },
      "execution_count": 17,
      "outputs": [
        {
          "output_type": "stream",
          "name": "stdout",
          "text": [
            "Loaded 971 original entries\n",
            "Number of examples: 971\n",
            "Initializing dataset with 971 samples\n",
            "First sample keys: ['model_id', 'query', 'pivot_context', 'pivot_token', 'pivot_token_id', 'prob_before', 'prob_after', 'prob_delta', 'is_positive', 'task_type', 'dataset_id', 'dataset_item_id', 'timestamp']\n",
            "Sample has 'pivot_context': True\n",
            "Sample has 'pivot_token': True\n"
          ]
        },
        {
          "output_type": "stream",
          "name": "stderr",
          "text": [
            "  0%|          | 3/971 [00:00<00:39, 24.67it/s]"
          ]
        },
        {
          "output_type": "stream",
          "name": "stdout",
          "text": [
            "Sample 0: Pivot token too short or empty: ''\n",
            "Sample 1: Pivot token too short or empty: '7'\n",
            "Sample 2: Processing text of length 647\n",
            "  Pivot token: 'So'\n",
            "  Text preview: A tomato plant has 100 tomatoes. Jane picks 1/4 of that number for use in their house. After a week,...\n",
            "Sample 2: Tokenized to 163 tokens\n",
            "Sample 2: Got residuals shape torch.Size([163, 1024])\n",
            "  Found pivot match - Token 64: ' solve' matches 'so'\n",
            "Sample 2: Created 163 labels, 1.0 are pivotal\n",
            "Sample 2: Successfully added to dataset\n",
            "Sample 3: Pivot token too short or empty: ''\n"
          ]
        },
        {
          "output_type": "stream",
          "name": "stderr",
          "text": [
            "  1%|          | 10/971 [00:00<01:06, 14.40it/s]"
          ]
        },
        {
          "output_type": "stream",
          "name": "stdout",
          "text": [
            "Sample 9: Pivot token too short or empty: '\\'\n"
          ]
        },
        {
          "output_type": "stream",
          "name": "stderr",
          "text": [
            "100%|██████████| 971/971 [01:09<00:00, 14.03it/s]\n"
          ]
        },
        {
          "output_type": "stream",
          "name": "stdout",
          "text": [
            "\n",
            "=== Dataset Preparation Summary ===\n",
            "Total input samples: 971\n",
            "Successful samples: 588\n",
            "Skipped - no pivot_context: 0\n",
            "Skipped - no pivot_token: 383\n",
            "Skipped - empty residuals: 0\n",
            "Skipped - empty labels: 0\n",
            "Skipped - misalignment: 0\n",
            "Final dataset size: 588\n",
            "Number of usable examples: 588\n",
            "Epoch 1: Loss = 3.1724 | Accuracy = 0.9688\n",
            "Epoch 2: Loss = 2.1555 | Accuracy = 0.9787\n",
            "Epoch 3: Loss = 2.0210 | Accuracy = 0.9787\n",
            "Epoch 4: Loss = 1.9310 | Accuracy = 0.9786\n",
            "Epoch 5: Loss = 1.9053 | Accuracy = 0.9785\n"
          ]
        }
      ]
    },
    {
      "cell_type": "markdown",
      "source": [
        "## Loop across layer 0-27\n"
      ],
      "metadata": {
        "id": "0osLP4H4zoeC"
      }
    },
    {
      "cell_type": "code",
      "source": [
        "results = []\n",
        "best_acc = 0\n",
        "best_layer = None\n",
        "best_probe_state = None\n",
        "\n",
        "for layer_idx in range(28):\n",
        "    print(f\"\\n=== Probing Layer {layer_idx} ===\")\n",
        "\n",
        "    try:\n",
        "        # Create dataset for this layer\n",
        "        probe_dataset = PTSProbeDataset(pts_data, tokenizer, model, layer_index=layer_idx)\n",
        "        if len(probe_dataset) == 0:\n",
        "            print(f\"Layer {layer_idx}: Skipping (no usable examples)\")\n",
        "            continue\n",
        "\n",
        "        train_loader, val_loader = create_dataloaders(probe_dataset)\n",
        "        hidden_size = probe_dataset[0][0].shape[1]\n",
        "        probe = LinearProbe(hidden_size)\n",
        "\n",
        "        # Train\n",
        "        train_probe(probe, train_loader, num_epochs=3, lr=1e-3, device=\"cuda\")\n",
        "\n",
        "        # Eval\n",
        "        acc = evaluate_probe(probe, val_loader, device=\"cuda\", verbose=False)\n",
        "        print(f\"Layer {layer_idx} Accuracy: {acc:.4f}\")\n",
        "        results.append((layer_idx, acc))\n",
        "\n",
        "        # Save best\n",
        "        if acc > best_acc:\n",
        "            best_acc = acc\n",
        "            best_layer = layer_idx\n",
        "            best_probe_state = probe.state_dict()\n",
        "\n",
        "    except Exception as e:\n",
        "        print(f\"Error at layer {layer_idx}: {e}\")\n",
        "        continue\n",
        "\n",
        "print(\"\\n=== Layer Probe Summary ===\")\n",
        "for layer, acc in results:\n",
        "    print(f\"Layer {layer:2d} -> Accuracy: {acc:.4f}\")\n",
        "\n",
        "print(f\"\\nBest layer: {best_layer} with accuracy {best_acc:.4f}\")\n",
        "torch.save(best_probe_state, f\"best_probe_layer{best_layer}.pt\")\n"
      ],
      "metadata": {
        "colab": {
          "base_uri": "https://localhost:8080/"
        },
        "id": "CbF49pgczvdN",
        "outputId": "1a2c898b-fc95-4d26-817b-93ab8c8c99bf"
      },
      "execution_count": 18,
      "outputs": [
        {
          "output_type": "stream",
          "name": "stdout",
          "text": [
            "\n",
            "=== Probing Layer 0 ===\n",
            "Initializing dataset with 971 samples\n",
            "First sample keys: ['model_id', 'query', 'pivot_context', 'pivot_token', 'pivot_token_id', 'prob_before', 'prob_after', 'prob_delta', 'is_positive', 'task_type', 'dataset_id', 'dataset_item_id', 'timestamp']\n",
            "Sample has 'pivot_context': True\n",
            "Sample has 'pivot_token': True\n"
          ]
        },
        {
          "output_type": "stream",
          "name": "stderr",
          "text": [
            "  0%|          | 3/971 [00:00<00:38, 25.10it/s]"
          ]
        },
        {
          "output_type": "stream",
          "name": "stdout",
          "text": [
            "Sample 0: Pivot token too short or empty: ''\n",
            "Sample 1: Pivot token too short or empty: '7'\n",
            "Sample 2: Processing text of length 647\n",
            "  Pivot token: 'So'\n",
            "  Text preview: A tomato plant has 100 tomatoes. Jane picks 1/4 of that number for use in their house. After a week,...\n",
            "Sample 2: Tokenized to 163 tokens\n",
            "Sample 2: Got residuals shape torch.Size([163, 1024])\n",
            "  Found pivot match - Token 64: ' solve' matches 'so'\n",
            "Sample 2: Created 163 labels, 1.0 are pivotal\n",
            "Sample 2: Successfully added to dataset\n",
            "Sample 3: Pivot token too short or empty: ''\n"
          ]
        },
        {
          "output_type": "stream",
          "name": "stderr",
          "text": [
            "  1%|          | 10/971 [00:00<01:03, 15.10it/s]"
          ]
        },
        {
          "output_type": "stream",
          "name": "stdout",
          "text": [
            "Sample 9: Pivot token too short or empty: '\\'\n"
          ]
        },
        {
          "output_type": "stream",
          "name": "stderr",
          "text": [
            "100%|██████████| 971/971 [01:09<00:00, 13.98it/s]\n"
          ]
        },
        {
          "output_type": "stream",
          "name": "stdout",
          "text": [
            "\n",
            "=== Dataset Preparation Summary ===\n",
            "Total input samples: 971\n",
            "Successful samples: 588\n",
            "Skipped - no pivot_context: 0\n",
            "Skipped - no pivot_token: 383\n",
            "Skipped - empty residuals: 0\n",
            "Skipped - empty labels: 0\n",
            "Skipped - misalignment: 0\n",
            "Final dataset size: 588\n",
            "Epoch 1: Loss = 9.4932 | Accuracy = 0.7506\n",
            "Epoch 2: Loss = 6.8561 | Accuracy = 0.9766\n",
            "Epoch 3: Loss = 5.1433 | Accuracy = 0.9777\n",
            "Layer 0 Accuracy: 0.9802\n",
            "\n",
            "=== Probing Layer 1 ===\n",
            "Initializing dataset with 971 samples\n",
            "First sample keys: ['model_id', 'query', 'pivot_context', 'pivot_token', 'pivot_token_id', 'prob_before', 'prob_after', 'prob_delta', 'is_positive', 'task_type', 'dataset_id', 'dataset_item_id', 'timestamp']\n",
            "Sample has 'pivot_context': True\n",
            "Sample has 'pivot_token': True\n"
          ]
        },
        {
          "output_type": "stream",
          "name": "stderr",
          "text": [
            "\r  0%|          | 0/971 [00:00<?, ?it/s]"
          ]
        },
        {
          "output_type": "stream",
          "name": "stdout",
          "text": [
            "Sample 0: Pivot token too short or empty: ''\n",
            "Sample 1: Pivot token too short or empty: '7'\n",
            "Sample 2: Processing text of length 647\n",
            "  Pivot token: 'So'\n",
            "  Text preview: A tomato plant has 100 tomatoes. Jane picks 1/4 of that number for use in their house. After a week,...\n",
            "Sample 2: Tokenized to 163 tokens\n",
            "Sample 2: Got residuals shape torch.Size([163, 1024])\n",
            "  Found pivot match - Token 64: ' solve' matches 'so'\n",
            "Sample 2: Created 163 labels, 1.0 are pivotal\n",
            "Sample 2: Successfully added to dataset\n",
            "Sample 3: Pivot token too short or empty: ''\n"
          ]
        },
        {
          "output_type": "stream",
          "name": "stderr",
          "text": [
            "  1%|          | 10/971 [00:00<00:58, 16.45it/s]"
          ]
        },
        {
          "output_type": "stream",
          "name": "stdout",
          "text": [
            "Sample 9: Pivot token too short or empty: '\\'\n"
          ]
        },
        {
          "output_type": "stream",
          "name": "stderr",
          "text": [
            "100%|██████████| 971/971 [01:09<00:00, 14.05it/s]\n"
          ]
        },
        {
          "output_type": "stream",
          "name": "stdout",
          "text": [
            "\n",
            "=== Dataset Preparation Summary ===\n",
            "Total input samples: 971\n",
            "Successful samples: 588\n",
            "Skipped - no pivot_context: 0\n",
            "Skipped - no pivot_token: 383\n",
            "Skipped - empty residuals: 0\n",
            "Skipped - empty labels: 0\n",
            "Skipped - misalignment: 0\n",
            "Final dataset size: 588\n",
            "Epoch 1: Loss = 7.4012 | Accuracy = 0.9630\n",
            "Epoch 2: Loss = 4.6964 | Accuracy = 0.9782\n",
            "Epoch 3: Loss = 3.3228 | Accuracy = 0.9783\n",
            "Layer 1 Accuracy: 0.9791\n",
            "\n",
            "=== Probing Layer 2 ===\n",
            "Initializing dataset with 971 samples\n",
            "First sample keys: ['model_id', 'query', 'pivot_context', 'pivot_token', 'pivot_token_id', 'prob_before', 'prob_after', 'prob_delta', 'is_positive', 'task_type', 'dataset_id', 'dataset_item_id', 'timestamp']\n",
            "Sample has 'pivot_context': True\n",
            "Sample has 'pivot_token': True\n"
          ]
        },
        {
          "output_type": "stream",
          "name": "stderr",
          "text": [
            "\r  0%|          | 0/971 [00:00<?, ?it/s]"
          ]
        },
        {
          "output_type": "stream",
          "name": "stdout",
          "text": [
            "Sample 0: Pivot token too short or empty: ''\n",
            "Sample 1: Pivot token too short or empty: '7'\n",
            "Sample 2: Processing text of length 647\n",
            "  Pivot token: 'So'\n",
            "  Text preview: A tomato plant has 100 tomatoes. Jane picks 1/4 of that number for use in their house. After a week,...\n",
            "Sample 2: Tokenized to 163 tokens\n",
            "Sample 2: Got residuals shape torch.Size([163, 1024])\n",
            "  Found pivot match - Token 64: ' solve' matches 'so'\n",
            "Sample 2: Created 163 labels, 1.0 are pivotal\n",
            "Sample 2: Successfully added to dataset\n",
            "Sample 3: Pivot token too short or empty: ''\n"
          ]
        },
        {
          "output_type": "stream",
          "name": "stderr",
          "text": [
            "  1%|          | 10/971 [00:00<00:58, 16.42it/s]"
          ]
        },
        {
          "output_type": "stream",
          "name": "stdout",
          "text": [
            "Sample 9: Pivot token too short or empty: '\\'\n"
          ]
        },
        {
          "output_type": "stream",
          "name": "stderr",
          "text": [
            "100%|██████████| 971/971 [01:08<00:00, 14.20it/s]\n"
          ]
        },
        {
          "output_type": "stream",
          "name": "stdout",
          "text": [
            "\n",
            "=== Dataset Preparation Summary ===\n",
            "Total input samples: 971\n",
            "Successful samples: 588\n",
            "Skipped - no pivot_context: 0\n",
            "Skipped - no pivot_token: 383\n",
            "Skipped - empty residuals: 0\n",
            "Skipped - empty labels: 0\n",
            "Skipped - misalignment: 0\n",
            "Final dataset size: 588\n",
            "Epoch 1: Loss = 7.4971 | Accuracy = 0.9402\n",
            "Epoch 2: Loss = 4.5018 | Accuracy = 0.9786\n",
            "Epoch 3: Loss = 3.1247 | Accuracy = 0.9788\n",
            "Layer 2 Accuracy: 0.9775\n",
            "\n",
            "=== Probing Layer 3 ===\n",
            "Initializing dataset with 971 samples\n",
            "First sample keys: ['model_id', 'query', 'pivot_context', 'pivot_token', 'pivot_token_id', 'prob_before', 'prob_after', 'prob_delta', 'is_positive', 'task_type', 'dataset_id', 'dataset_item_id', 'timestamp']\n",
            "Sample has 'pivot_context': True\n",
            "Sample has 'pivot_token': True\n"
          ]
        },
        {
          "output_type": "stream",
          "name": "stderr",
          "text": [
            "\r  0%|          | 0/971 [00:00<?, ?it/s]"
          ]
        },
        {
          "output_type": "stream",
          "name": "stdout",
          "text": [
            "Sample 0: Pivot token too short or empty: ''\n",
            "Sample 1: Pivot token too short or empty: '7'\n",
            "Sample 2: Processing text of length 647\n",
            "  Pivot token: 'So'\n",
            "  Text preview: A tomato plant has 100 tomatoes. Jane picks 1/4 of that number for use in their house. After a week,...\n",
            "Sample 2: Tokenized to 163 tokens\n",
            "Sample 2: Got residuals shape torch.Size([163, 1024])\n",
            "  Found pivot match - Token 64: ' solve' matches 'so'\n",
            "Sample 2: Created 163 labels, 1.0 are pivotal\n",
            "Sample 2: Successfully added to dataset\n",
            "Sample 3: Pivot token too short or empty: ''\n"
          ]
        },
        {
          "output_type": "stream",
          "name": "stderr",
          "text": [
            "  1%|          | 10/971 [00:00<01:00, 15.81it/s]"
          ]
        },
        {
          "output_type": "stream",
          "name": "stdout",
          "text": [
            "Sample 9: Pivot token too short or empty: '\\'\n"
          ]
        },
        {
          "output_type": "stream",
          "name": "stderr",
          "text": [
            "100%|██████████| 971/971 [01:08<00:00, 14.14it/s]\n"
          ]
        },
        {
          "output_type": "stream",
          "name": "stdout",
          "text": [
            "\n",
            "=== Dataset Preparation Summary ===\n",
            "Total input samples: 971\n",
            "Successful samples: 588\n",
            "Skipped - no pivot_context: 0\n",
            "Skipped - no pivot_token: 383\n",
            "Skipped - empty residuals: 0\n",
            "Skipped - empty labels: 0\n",
            "Skipped - misalignment: 0\n",
            "Final dataset size: 588\n",
            "Epoch 1: Loss = 13.1981 | Accuracy = 0.8058\n",
            "Epoch 2: Loss = 9.0144 | Accuracy = 0.9754\n",
            "Epoch 3: Loss = 3.2099 | Accuracy = 0.9777\n",
            "Layer 3 Accuracy: 0.9786\n",
            "\n",
            "=== Probing Layer 4 ===\n",
            "Initializing dataset with 971 samples\n",
            "First sample keys: ['model_id', 'query', 'pivot_context', 'pivot_token', 'pivot_token_id', 'prob_before', 'prob_after', 'prob_delta', 'is_positive', 'task_type', 'dataset_id', 'dataset_item_id', 'timestamp']\n",
            "Sample has 'pivot_context': True\n",
            "Sample has 'pivot_token': True\n"
          ]
        },
        {
          "output_type": "stream",
          "name": "stderr",
          "text": [
            "\r  0%|          | 0/971 [00:00<?, ?it/s]"
          ]
        },
        {
          "output_type": "stream",
          "name": "stdout",
          "text": [
            "Sample 0: Pivot token too short or empty: ''\n",
            "Sample 1: Pivot token too short or empty: '7'\n",
            "Sample 2: Processing text of length 647\n",
            "  Pivot token: 'So'\n",
            "  Text preview: A tomato plant has 100 tomatoes. Jane picks 1/4 of that number for use in their house. After a week,...\n",
            "Sample 2: Tokenized to 163 tokens\n",
            "Sample 2: Got residuals shape torch.Size([163, 1024])\n",
            "  Found pivot match - Token 64: ' solve' matches 'so'\n",
            "Sample 2: Created 163 labels, 1.0 are pivotal\n",
            "Sample 2: Successfully added to dataset\n",
            "Sample 3: Pivot token too short or empty: ''\n"
          ]
        },
        {
          "output_type": "stream",
          "name": "stderr",
          "text": [
            "  1%|          | 10/971 [00:00<00:59, 16.25it/s]"
          ]
        },
        {
          "output_type": "stream",
          "name": "stdout",
          "text": [
            "Sample 9: Pivot token too short or empty: '\\'\n"
          ]
        },
        {
          "output_type": "stream",
          "name": "stderr",
          "text": [
            "100%|██████████| 971/971 [01:09<00:00, 14.06it/s]\n"
          ]
        },
        {
          "output_type": "stream",
          "name": "stdout",
          "text": [
            "\n",
            "=== Dataset Preparation Summary ===\n",
            "Total input samples: 971\n",
            "Successful samples: 588\n",
            "Skipped - no pivot_context: 0\n",
            "Skipped - no pivot_token: 383\n",
            "Skipped - empty residuals: 0\n",
            "Skipped - empty labels: 0\n",
            "Skipped - misalignment: 0\n",
            "Final dataset size: 588\n",
            "Epoch 1: Loss = 7.4758 | Accuracy = 0.9108\n",
            "Epoch 2: Loss = 3.8783 | Accuracy = 0.9786\n",
            "Epoch 3: Loss = 2.8121 | Accuracy = 0.9786\n",
            "Layer 4 Accuracy: 0.9785\n",
            "\n",
            "=== Probing Layer 5 ===\n",
            "Initializing dataset with 971 samples\n",
            "First sample keys: ['model_id', 'query', 'pivot_context', 'pivot_token', 'pivot_token_id', 'prob_before', 'prob_after', 'prob_delta', 'is_positive', 'task_type', 'dataset_id', 'dataset_item_id', 'timestamp']\n",
            "Sample has 'pivot_context': True\n",
            "Sample has 'pivot_token': True\n"
          ]
        },
        {
          "output_type": "stream",
          "name": "stderr",
          "text": [
            "\r  0%|          | 0/971 [00:00<?, ?it/s]"
          ]
        },
        {
          "output_type": "stream",
          "name": "stdout",
          "text": [
            "Sample 0: Pivot token too short or empty: ''\n",
            "Sample 1: Pivot token too short or empty: '7'\n",
            "Sample 2: Processing text of length 647\n",
            "  Pivot token: 'So'\n",
            "  Text preview: A tomato plant has 100 tomatoes. Jane picks 1/4 of that number for use in their house. After a week,...\n",
            "Sample 2: Tokenized to 163 tokens\n",
            "Sample 2: Got residuals shape torch.Size([163, 1024])\n",
            "  Found pivot match - Token 64: ' solve' matches 'so'\n",
            "Sample 2: Created 163 labels, 1.0 are pivotal\n",
            "Sample 2: Successfully added to dataset\n",
            "Sample 3: Pivot token too short or empty: ''\n"
          ]
        },
        {
          "output_type": "stream",
          "name": "stderr",
          "text": [
            "  1%|          | 10/971 [00:00<00:58, 16.32it/s]"
          ]
        },
        {
          "output_type": "stream",
          "name": "stdout",
          "text": [
            "Sample 9: Pivot token too short or empty: '\\'\n"
          ]
        },
        {
          "output_type": "stream",
          "name": "stderr",
          "text": [
            "100%|██████████| 971/971 [01:08<00:00, 14.09it/s]\n"
          ]
        },
        {
          "output_type": "stream",
          "name": "stdout",
          "text": [
            "\n",
            "=== Dataset Preparation Summary ===\n",
            "Total input samples: 971\n",
            "Successful samples: 588\n",
            "Skipped - no pivot_context: 0\n",
            "Skipped - no pivot_token: 383\n",
            "Skipped - empty residuals: 0\n",
            "Skipped - empty labels: 0\n",
            "Skipped - misalignment: 0\n",
            "Final dataset size: 588\n",
            "Epoch 1: Loss = 5.9337 | Accuracy = 0.9662\n",
            "Epoch 2: Loss = 2.9366 | Accuracy = 0.9786\n",
            "Epoch 3: Loss = 2.3335 | Accuracy = 0.9786\n",
            "Layer 5 Accuracy: 0.9783\n",
            "\n",
            "=== Probing Layer 6 ===\n",
            "Initializing dataset with 971 samples\n",
            "First sample keys: ['model_id', 'query', 'pivot_context', 'pivot_token', 'pivot_token_id', 'prob_before', 'prob_after', 'prob_delta', 'is_positive', 'task_type', 'dataset_id', 'dataset_item_id', 'timestamp']\n",
            "Sample has 'pivot_context': True\n",
            "Sample has 'pivot_token': True\n"
          ]
        },
        {
          "output_type": "stream",
          "name": "stderr",
          "text": [
            "\r  0%|          | 0/971 [00:00<?, ?it/s]"
          ]
        },
        {
          "output_type": "stream",
          "name": "stdout",
          "text": [
            "Sample 0: Pivot token too short or empty: ''\n",
            "Sample 1: Pivot token too short or empty: '7'\n",
            "Sample 2: Processing text of length 647\n",
            "  Pivot token: 'So'\n",
            "  Text preview: A tomato plant has 100 tomatoes. Jane picks 1/4 of that number for use in their house. After a week,...\n",
            "Sample 2: Tokenized to 163 tokens\n",
            "Sample 2: Got residuals shape torch.Size([163, 1024])\n",
            "  Found pivot match - Token 64: ' solve' matches 'so'\n",
            "Sample 2: Created 163 labels, 1.0 are pivotal\n",
            "Sample 2: Successfully added to dataset\n",
            "Sample 3: Pivot token too short or empty: ''\n"
          ]
        },
        {
          "output_type": "stream",
          "name": "stderr",
          "text": [
            "  1%|          | 10/971 [00:00<00:58, 16.48it/s]"
          ]
        },
        {
          "output_type": "stream",
          "name": "stdout",
          "text": [
            "Sample 9: Pivot token too short or empty: '\\'\n"
          ]
        },
        {
          "output_type": "stream",
          "name": "stderr",
          "text": [
            "100%|██████████| 971/971 [01:08<00:00, 14.17it/s]\n"
          ]
        },
        {
          "output_type": "stream",
          "name": "stdout",
          "text": [
            "\n",
            "=== Dataset Preparation Summary ===\n",
            "Total input samples: 971\n",
            "Successful samples: 588\n",
            "Skipped - no pivot_context: 0\n",
            "Skipped - no pivot_token: 383\n",
            "Skipped - empty residuals: 0\n",
            "Skipped - empty labels: 0\n",
            "Skipped - misalignment: 0\n",
            "Final dataset size: 588\n",
            "Epoch 1: Loss = 6.7567 | Accuracy = 0.9138\n",
            "Epoch 2: Loss = 3.3072 | Accuracy = 0.9782\n",
            "Epoch 3: Loss = 2.5095 | Accuracy = 0.9783\n",
            "Layer 6 Accuracy: 0.9796\n",
            "\n",
            "=== Probing Layer 7 ===\n",
            "Initializing dataset with 971 samples\n",
            "First sample keys: ['model_id', 'query', 'pivot_context', 'pivot_token', 'pivot_token_id', 'prob_before', 'prob_after', 'prob_delta', 'is_positive', 'task_type', 'dataset_id', 'dataset_item_id', 'timestamp']\n",
            "Sample has 'pivot_context': True\n",
            "Sample has 'pivot_token': True\n"
          ]
        },
        {
          "output_type": "stream",
          "name": "stderr",
          "text": [
            "\r  0%|          | 0/971 [00:00<?, ?it/s]"
          ]
        },
        {
          "output_type": "stream",
          "name": "stdout",
          "text": [
            "Sample 0: Pivot token too short or empty: ''\n",
            "Sample 1: Pivot token too short or empty: '7'\n",
            "Sample 2: Processing text of length 647\n",
            "  Pivot token: 'So'\n",
            "  Text preview: A tomato plant has 100 tomatoes. Jane picks 1/4 of that number for use in their house. After a week,...\n",
            "Sample 2: Tokenized to 163 tokens\n",
            "Sample 2: Got residuals shape torch.Size([163, 1024])\n",
            "  Found pivot match - Token 64: ' solve' matches 'so'\n",
            "Sample 2: Created 163 labels, 1.0 are pivotal\n",
            "Sample 2: Successfully added to dataset\n",
            "Sample 3: Pivot token too short or empty: ''\n"
          ]
        },
        {
          "output_type": "stream",
          "name": "stderr",
          "text": [
            "  1%|          | 10/971 [00:00<00:59, 16.24it/s]"
          ]
        },
        {
          "output_type": "stream",
          "name": "stdout",
          "text": [
            "Sample 9: Pivot token too short or empty: '\\'\n"
          ]
        },
        {
          "output_type": "stream",
          "name": "stderr",
          "text": [
            "100%|██████████| 971/971 [01:08<00:00, 14.13it/s]\n"
          ]
        },
        {
          "output_type": "stream",
          "name": "stdout",
          "text": [
            "\n",
            "=== Dataset Preparation Summary ===\n",
            "Total input samples: 971\n",
            "Successful samples: 588\n",
            "Skipped - no pivot_context: 0\n",
            "Skipped - no pivot_token: 383\n",
            "Skipped - empty residuals: 0\n",
            "Skipped - empty labels: 0\n",
            "Skipped - misalignment: 0\n",
            "Final dataset size: 588\n",
            "Epoch 1: Loss = 13.7715 | Accuracy = 0.6815\n",
            "Epoch 2: Loss = 8.4894 | Accuracy = 0.9738\n",
            "Epoch 3: Loss = 7.3221 | Accuracy = 0.9750\n",
            "Layer 7 Accuracy: 0.9773\n",
            "\n",
            "=== Probing Layer 8 ===\n",
            "Initializing dataset with 971 samples\n",
            "First sample keys: ['model_id', 'query', 'pivot_context', 'pivot_token', 'pivot_token_id', 'prob_before', 'prob_after', 'prob_delta', 'is_positive', 'task_type', 'dataset_id', 'dataset_item_id', 'timestamp']\n",
            "Sample has 'pivot_context': True\n",
            "Sample has 'pivot_token': True\n"
          ]
        },
        {
          "output_type": "stream",
          "name": "stderr",
          "text": [
            "\r  0%|          | 0/971 [00:00<?, ?it/s]"
          ]
        },
        {
          "output_type": "stream",
          "name": "stdout",
          "text": [
            "Sample 0: Pivot token too short or empty: ''\n",
            "Sample 1: Pivot token too short or empty: '7'\n",
            "Sample 2: Processing text of length 647\n",
            "  Pivot token: 'So'\n",
            "  Text preview: A tomato plant has 100 tomatoes. Jane picks 1/4 of that number for use in their house. After a week,...\n",
            "Sample 2: Tokenized to 163 tokens\n",
            "Sample 2: Got residuals shape torch.Size([163, 1024])\n",
            "  Found pivot match - Token 64: ' solve' matches 'so'\n",
            "Sample 2: Created 163 labels, 1.0 are pivotal\n",
            "Sample 2: Successfully added to dataset\n",
            "Sample 3: Pivot token too short or empty: ''\n"
          ]
        },
        {
          "output_type": "stream",
          "name": "stderr",
          "text": [
            "  1%|          | 10/971 [00:00<00:58, 16.46it/s]"
          ]
        },
        {
          "output_type": "stream",
          "name": "stdout",
          "text": [
            "Sample 9: Pivot token too short or empty: '\\'\n"
          ]
        },
        {
          "output_type": "stream",
          "name": "stderr",
          "text": [
            "100%|██████████| 971/971 [01:09<00:00, 14.04it/s]\n"
          ]
        },
        {
          "output_type": "stream",
          "name": "stdout",
          "text": [
            "\n",
            "=== Dataset Preparation Summary ===\n",
            "Total input samples: 971\n",
            "Successful samples: 588\n",
            "Skipped - no pivot_context: 0\n",
            "Skipped - no pivot_token: 383\n",
            "Skipped - empty residuals: 0\n",
            "Skipped - empty labels: 0\n",
            "Skipped - misalignment: 0\n",
            "Final dataset size: 588\n",
            "Epoch 1: Loss = 6.9389 | Accuracy = 0.8786\n",
            "Epoch 2: Loss = 2.9173 | Accuracy = 0.9789\n",
            "Epoch 3: Loss = 2.2925 | Accuracy = 0.9789\n",
            "Layer 8 Accuracy: 0.9772\n",
            "\n",
            "=== Probing Layer 9 ===\n",
            "Initializing dataset with 971 samples\n",
            "First sample keys: ['model_id', 'query', 'pivot_context', 'pivot_token', 'pivot_token_id', 'prob_before', 'prob_after', 'prob_delta', 'is_positive', 'task_type', 'dataset_id', 'dataset_item_id', 'timestamp']\n",
            "Sample has 'pivot_context': True\n",
            "Sample has 'pivot_token': True\n"
          ]
        },
        {
          "output_type": "stream",
          "name": "stderr",
          "text": [
            "\r  0%|          | 0/971 [00:00<?, ?it/s]"
          ]
        },
        {
          "output_type": "stream",
          "name": "stdout",
          "text": [
            "Sample 0: Pivot token too short or empty: ''\n",
            "Sample 1: Pivot token too short or empty: '7'\n",
            "Sample 2: Processing text of length 647\n",
            "  Pivot token: 'So'\n",
            "  Text preview: A tomato plant has 100 tomatoes. Jane picks 1/4 of that number for use in their house. After a week,...\n",
            "Sample 2: Tokenized to 163 tokens\n",
            "Sample 2: Got residuals shape torch.Size([163, 1024])\n",
            "  Found pivot match - Token 64: ' solve' matches 'so'\n",
            "Sample 2: Created 163 labels, 1.0 are pivotal\n",
            "Sample 2: Successfully added to dataset\n",
            "Sample 3: Pivot token too short or empty: ''\n"
          ]
        },
        {
          "output_type": "stream",
          "name": "stderr",
          "text": [
            "  1%|          | 10/971 [00:00<00:59, 16.24it/s]"
          ]
        },
        {
          "output_type": "stream",
          "name": "stdout",
          "text": [
            "Sample 9: Pivot token too short or empty: '\\'\n"
          ]
        },
        {
          "output_type": "stream",
          "name": "stderr",
          "text": [
            "100%|██████████| 971/971 [01:08<00:00, 14.16it/s]\n"
          ]
        },
        {
          "output_type": "stream",
          "name": "stdout",
          "text": [
            "\n",
            "=== Dataset Preparation Summary ===\n",
            "Total input samples: 971\n",
            "Successful samples: 588\n",
            "Skipped - no pivot_context: 0\n",
            "Skipped - no pivot_token: 383\n",
            "Skipped - empty residuals: 0\n",
            "Skipped - empty labels: 0\n",
            "Skipped - misalignment: 0\n",
            "Final dataset size: 588\n",
            "Epoch 1: Loss = 10.6299 | Accuracy = 0.9111\n",
            "Epoch 2: Loss = 2.4734 | Accuracy = 0.9783\n",
            "Epoch 3: Loss = 1.8475 | Accuracy = 0.9792\n",
            "Layer 9 Accuracy: 0.9761\n",
            "\n",
            "=== Probing Layer 10 ===\n",
            "Initializing dataset with 971 samples\n",
            "First sample keys: ['model_id', 'query', 'pivot_context', 'pivot_token', 'pivot_token_id', 'prob_before', 'prob_after', 'prob_delta', 'is_positive', 'task_type', 'dataset_id', 'dataset_item_id', 'timestamp']\n",
            "Sample has 'pivot_context': True\n",
            "Sample has 'pivot_token': True\n"
          ]
        },
        {
          "output_type": "stream",
          "name": "stderr",
          "text": [
            "\r  0%|          | 0/971 [00:00<?, ?it/s]"
          ]
        },
        {
          "output_type": "stream",
          "name": "stdout",
          "text": [
            "Sample 0: Pivot token too short or empty: ''\n",
            "Sample 1: Pivot token too short or empty: '7'\n",
            "Sample 2: Processing text of length 647\n",
            "  Pivot token: 'So'\n",
            "  Text preview: A tomato plant has 100 tomatoes. Jane picks 1/4 of that number for use in their house. After a week,...\n",
            "Sample 2: Tokenized to 163 tokens\n",
            "Sample 2: Got residuals shape torch.Size([163, 1024])\n",
            "  Found pivot match - Token 64: ' solve' matches 'so'\n",
            "Sample 2: Created 163 labels, 1.0 are pivotal\n",
            "Sample 2: Successfully added to dataset\n",
            "Sample 3: Pivot token too short or empty: ''\n"
          ]
        },
        {
          "output_type": "stream",
          "name": "stderr",
          "text": [
            "  1%|          | 10/971 [00:00<00:59, 16.22it/s]"
          ]
        },
        {
          "output_type": "stream",
          "name": "stdout",
          "text": [
            "Sample 9: Pivot token too short or empty: '\\'\n"
          ]
        },
        {
          "output_type": "stream",
          "name": "stderr",
          "text": [
            "100%|██████████| 971/971 [01:08<00:00, 14.15it/s]\n"
          ]
        },
        {
          "output_type": "stream",
          "name": "stdout",
          "text": [
            "\n",
            "=== Dataset Preparation Summary ===\n",
            "Total input samples: 971\n",
            "Successful samples: 588\n",
            "Skipped - no pivot_context: 0\n",
            "Skipped - no pivot_token: 383\n",
            "Skipped - empty residuals: 0\n",
            "Skipped - empty labels: 0\n",
            "Skipped - misalignment: 0\n",
            "Final dataset size: 588\n",
            "Epoch 1: Loss = 10.7025 | Accuracy = 0.8647\n",
            "Epoch 2: Loss = 2.1053 | Accuracy = 0.9786\n",
            "Epoch 3: Loss = 1.7986 | Accuracy = 0.9794\n",
            "Layer 10 Accuracy: 0.9750\n",
            "\n",
            "=== Probing Layer 11 ===\n",
            "Initializing dataset with 971 samples\n",
            "First sample keys: ['model_id', 'query', 'pivot_context', 'pivot_token', 'pivot_token_id', 'prob_before', 'prob_after', 'prob_delta', 'is_positive', 'task_type', 'dataset_id', 'dataset_item_id', 'timestamp']\n",
            "Sample has 'pivot_context': True\n",
            "Sample has 'pivot_token': True\n"
          ]
        },
        {
          "output_type": "stream",
          "name": "stderr",
          "text": [
            "\r  0%|          | 0/971 [00:00<?, ?it/s]"
          ]
        },
        {
          "output_type": "stream",
          "name": "stdout",
          "text": [
            "Sample 0: Pivot token too short or empty: ''\n",
            "Sample 1: Pivot token too short or empty: '7'\n",
            "Sample 2: Processing text of length 647\n",
            "  Pivot token: 'So'\n",
            "  Text preview: A tomato plant has 100 tomatoes. Jane picks 1/4 of that number for use in their house. After a week,...\n",
            "Sample 2: Tokenized to 163 tokens\n",
            "Sample 2: Got residuals shape torch.Size([163, 1024])\n",
            "  Found pivot match - Token 64: ' solve' matches 'so'\n",
            "Sample 2: Created 163 labels, 1.0 are pivotal\n",
            "Sample 2: Successfully added to dataset\n",
            "Sample 3: Pivot token too short or empty: ''\n"
          ]
        },
        {
          "output_type": "stream",
          "name": "stderr",
          "text": [
            "  1%|          | 10/971 [00:00<00:58, 16.34it/s]"
          ]
        },
        {
          "output_type": "stream",
          "name": "stdout",
          "text": [
            "Sample 9: Pivot token too short or empty: '\\'\n"
          ]
        },
        {
          "output_type": "stream",
          "name": "stderr",
          "text": [
            "100%|██████████| 971/971 [01:08<00:00, 14.15it/s]\n"
          ]
        },
        {
          "output_type": "stream",
          "name": "stdout",
          "text": [
            "\n",
            "=== Dataset Preparation Summary ===\n",
            "Total input samples: 971\n",
            "Successful samples: 588\n",
            "Skipped - no pivot_context: 0\n",
            "Skipped - no pivot_token: 383\n",
            "Skipped - empty residuals: 0\n",
            "Skipped - empty labels: 0\n",
            "Skipped - misalignment: 0\n",
            "Final dataset size: 588\n",
            "Epoch 1: Loss = 12.7371 | Accuracy = 0.7477\n",
            "Epoch 2: Loss = 7.3679 | Accuracy = 0.9744\n",
            "Epoch 3: Loss = 7.1399 | Accuracy = 0.9749\n",
            "Layer 11 Accuracy: 0.9768\n",
            "\n",
            "=== Probing Layer 12 ===\n",
            "Initializing dataset with 971 samples\n",
            "First sample keys: ['model_id', 'query', 'pivot_context', 'pivot_token', 'pivot_token_id', 'prob_before', 'prob_after', 'prob_delta', 'is_positive', 'task_type', 'dataset_id', 'dataset_item_id', 'timestamp']\n",
            "Sample has 'pivot_context': True\n",
            "Sample has 'pivot_token': True\n"
          ]
        },
        {
          "output_type": "stream",
          "name": "stderr",
          "text": [
            "\r  0%|          | 0/971 [00:00<?, ?it/s]"
          ]
        },
        {
          "output_type": "stream",
          "name": "stdout",
          "text": [
            "Sample 0: Pivot token too short or empty: ''\n",
            "Sample 1: Pivot token too short or empty: '7'\n",
            "Sample 2: Processing text of length 647\n",
            "  Pivot token: 'So'\n",
            "  Text preview: A tomato plant has 100 tomatoes. Jane picks 1/4 of that number for use in their house. After a week,...\n",
            "Sample 2: Tokenized to 163 tokens\n",
            "Sample 2: Got residuals shape torch.Size([163, 1024])\n",
            "  Found pivot match - Token 64: ' solve' matches 'so'\n",
            "Sample 2: Created 163 labels, 1.0 are pivotal\n",
            "Sample 2: Successfully added to dataset\n",
            "Sample 3: Pivot token too short or empty: ''\n"
          ]
        },
        {
          "output_type": "stream",
          "name": "stderr",
          "text": [
            "  1%|          | 10/971 [00:00<00:58, 16.33it/s]"
          ]
        },
        {
          "output_type": "stream",
          "name": "stdout",
          "text": [
            "Sample 9: Pivot token too short or empty: '\\'\n"
          ]
        },
        {
          "output_type": "stream",
          "name": "stderr",
          "text": [
            "100%|██████████| 971/971 [01:09<00:00, 14.06it/s]\n"
          ]
        },
        {
          "output_type": "stream",
          "name": "stdout",
          "text": [
            "\n",
            "=== Dataset Preparation Summary ===\n",
            "Total input samples: 971\n",
            "Successful samples: 588\n",
            "Skipped - no pivot_context: 0\n",
            "Skipped - no pivot_token: 383\n",
            "Skipped - empty residuals: 0\n",
            "Skipped - empty labels: 0\n",
            "Skipped - misalignment: 0\n",
            "Final dataset size: 588\n",
            "Epoch 1: Loss = 5.0775 | Accuracy = 0.9228\n",
            "Epoch 2: Loss = 2.2893 | Accuracy = 0.9786\n",
            "Epoch 3: Loss = 2.2072 | Accuracy = 0.9787\n",
            "Layer 12 Accuracy: 0.9782\n",
            "\n",
            "=== Probing Layer 13 ===\n",
            "Initializing dataset with 971 samples\n",
            "First sample keys: ['model_id', 'query', 'pivot_context', 'pivot_token', 'pivot_token_id', 'prob_before', 'prob_after', 'prob_delta', 'is_positive', 'task_type', 'dataset_id', 'dataset_item_id', 'timestamp']\n",
            "Sample has 'pivot_context': True\n",
            "Sample has 'pivot_token': True\n"
          ]
        },
        {
          "output_type": "stream",
          "name": "stderr",
          "text": [
            "\r  0%|          | 0/971 [00:00<?, ?it/s]"
          ]
        },
        {
          "output_type": "stream",
          "name": "stdout",
          "text": [
            "Sample 0: Pivot token too short or empty: ''\n",
            "Sample 1: Pivot token too short or empty: '7'\n",
            "Sample 2: Processing text of length 647\n",
            "  Pivot token: 'So'\n",
            "  Text preview: A tomato plant has 100 tomatoes. Jane picks 1/4 of that number for use in their house. After a week,...\n",
            "Sample 2: Tokenized to 163 tokens\n",
            "Sample 2: Got residuals shape torch.Size([163, 1024])\n",
            "  Found pivot match - Token 64: ' solve' matches 'so'\n",
            "Sample 2: Created 163 labels, 1.0 are pivotal\n",
            "Sample 2: Successfully added to dataset\n",
            "Sample 3: Pivot token too short or empty: ''\n"
          ]
        },
        {
          "output_type": "stream",
          "name": "stderr",
          "text": [
            "  1%|          | 10/971 [00:00<00:58, 16.41it/s]"
          ]
        },
        {
          "output_type": "stream",
          "name": "stdout",
          "text": [
            "Sample 9: Pivot token too short or empty: '\\'\n"
          ]
        },
        {
          "output_type": "stream",
          "name": "stderr",
          "text": [
            "100%|██████████| 971/971 [01:08<00:00, 14.12it/s]\n"
          ]
        },
        {
          "output_type": "stream",
          "name": "stdout",
          "text": [
            "\n",
            "=== Dataset Preparation Summary ===\n",
            "Total input samples: 971\n",
            "Successful samples: 588\n",
            "Skipped - no pivot_context: 0\n",
            "Skipped - no pivot_token: 383\n",
            "Skipped - empty residuals: 0\n",
            "Skipped - empty labels: 0\n",
            "Skipped - misalignment: 0\n",
            "Final dataset size: 588\n",
            "Epoch 1: Loss = 3.4659 | Accuracy = 0.9683\n",
            "Epoch 2: Loss = 2.1954 | Accuracy = 0.9785\n",
            "Epoch 3: Loss = 2.1341 | Accuracy = 0.9785\n",
            "Layer 13 Accuracy: 0.9789\n",
            "\n",
            "=== Probing Layer 14 ===\n",
            "Initializing dataset with 971 samples\n",
            "First sample keys: ['model_id', 'query', 'pivot_context', 'pivot_token', 'pivot_token_id', 'prob_before', 'prob_after', 'prob_delta', 'is_positive', 'task_type', 'dataset_id', 'dataset_item_id', 'timestamp']\n",
            "Sample has 'pivot_context': True\n",
            "Sample has 'pivot_token': True\n"
          ]
        },
        {
          "output_type": "stream",
          "name": "stderr",
          "text": [
            "\r  0%|          | 0/971 [00:00<?, ?it/s]"
          ]
        },
        {
          "output_type": "stream",
          "name": "stdout",
          "text": [
            "Sample 0: Pivot token too short or empty: ''\n",
            "Sample 1: Pivot token too short or empty: '7'\n",
            "Sample 2: Processing text of length 647\n",
            "  Pivot token: 'So'\n",
            "  Text preview: A tomato plant has 100 tomatoes. Jane picks 1/4 of that number for use in their house. After a week,...\n",
            "Sample 2: Tokenized to 163 tokens\n",
            "Sample 2: Got residuals shape torch.Size([163, 1024])\n",
            "  Found pivot match - Token 64: ' solve' matches 'so'\n",
            "Sample 2: Created 163 labels, 1.0 are pivotal\n",
            "Sample 2: Successfully added to dataset\n",
            "Sample 3: Pivot token too short or empty: ''\n"
          ]
        },
        {
          "output_type": "stream",
          "name": "stderr",
          "text": [
            "  1%|          | 10/971 [00:00<00:59, 16.21it/s]"
          ]
        },
        {
          "output_type": "stream",
          "name": "stdout",
          "text": [
            "Sample 9: Pivot token too short or empty: '\\'\n"
          ]
        },
        {
          "output_type": "stream",
          "name": "stderr",
          "text": [
            "100%|██████████| 971/971 [01:08<00:00, 14.16it/s]\n"
          ]
        },
        {
          "output_type": "stream",
          "name": "stdout",
          "text": [
            "\n",
            "=== Dataset Preparation Summary ===\n",
            "Total input samples: 971\n",
            "Successful samples: 588\n",
            "Skipped - no pivot_context: 0\n",
            "Skipped - no pivot_token: 383\n",
            "Skipped - empty residuals: 0\n",
            "Skipped - empty labels: 0\n",
            "Skipped - misalignment: 0\n",
            "Final dataset size: 588\n",
            "Epoch 1: Loss = 3.5616 | Accuracy = 0.9642\n",
            "Epoch 2: Loss = 2.0972 | Accuracy = 0.9785\n",
            "Epoch 3: Loss = 2.0213 | Accuracy = 0.9785\n",
            "Layer 14 Accuracy: 0.9790\n",
            "\n",
            "=== Probing Layer 15 ===\n",
            "Initializing dataset with 971 samples\n",
            "First sample keys: ['model_id', 'query', 'pivot_context', 'pivot_token', 'pivot_token_id', 'prob_before', 'prob_after', 'prob_delta', 'is_positive', 'task_type', 'dataset_id', 'dataset_item_id', 'timestamp']\n",
            "Sample has 'pivot_context': True\n",
            "Sample has 'pivot_token': True\n"
          ]
        },
        {
          "output_type": "stream",
          "name": "stderr",
          "text": [
            "\r  0%|          | 0/971 [00:00<?, ?it/s]"
          ]
        },
        {
          "output_type": "stream",
          "name": "stdout",
          "text": [
            "Sample 0: Pivot token too short or empty: ''\n",
            "Sample 1: Pivot token too short or empty: '7'\n",
            "Sample 2: Processing text of length 647\n",
            "  Pivot token: 'So'\n",
            "  Text preview: A tomato plant has 100 tomatoes. Jane picks 1/4 of that number for use in their house. After a week,...\n",
            "Sample 2: Tokenized to 163 tokens\n",
            "Sample 2: Got residuals shape torch.Size([163, 1024])\n",
            "  Found pivot match - Token 64: ' solve' matches 'so'\n",
            "Sample 2: Created 163 labels, 1.0 are pivotal\n",
            "Sample 2: Successfully added to dataset\n",
            "Sample 3: Pivot token too short or empty: ''\n"
          ]
        },
        {
          "output_type": "stream",
          "name": "stderr",
          "text": [
            "  1%|          | 10/971 [00:00<00:58, 16.42it/s]"
          ]
        },
        {
          "output_type": "stream",
          "name": "stdout",
          "text": [
            "Sample 9: Pivot token too short or empty: '\\'\n"
          ]
        },
        {
          "output_type": "stream",
          "name": "stderr",
          "text": [
            "100%|██████████| 971/971 [01:08<00:00, 14.15it/s]\n"
          ]
        },
        {
          "output_type": "stream",
          "name": "stdout",
          "text": [
            "\n",
            "=== Dataset Preparation Summary ===\n",
            "Total input samples: 971\n",
            "Successful samples: 588\n",
            "Skipped - no pivot_context: 0\n",
            "Skipped - no pivot_token: 383\n",
            "Skipped - empty residuals: 0\n",
            "Skipped - empty labels: 0\n",
            "Skipped - misalignment: 0\n",
            "Final dataset size: 588\n",
            "Epoch 1: Loss = 11.8290 | Accuracy = 0.7803\n",
            "Epoch 2: Loss = 6.9129 | Accuracy = 0.9757\n",
            "Epoch 3: Loss = 5.5529 | Accuracy = 0.9758\n",
            "Layer 15 Accuracy: 0.9773\n",
            "\n",
            "=== Probing Layer 16 ===\n",
            "Initializing dataset with 971 samples\n",
            "First sample keys: ['model_id', 'query', 'pivot_context', 'pivot_token', 'pivot_token_id', 'prob_before', 'prob_after', 'prob_delta', 'is_positive', 'task_type', 'dataset_id', 'dataset_item_id', 'timestamp']\n",
            "Sample has 'pivot_context': True\n",
            "Sample has 'pivot_token': True\n"
          ]
        },
        {
          "output_type": "stream",
          "name": "stderr",
          "text": [
            "\r  0%|          | 0/971 [00:00<?, ?it/s]"
          ]
        },
        {
          "output_type": "stream",
          "name": "stdout",
          "text": [
            "Sample 0: Pivot token too short or empty: ''\n",
            "Sample 1: Pivot token too short or empty: '7'\n",
            "Sample 2: Processing text of length 647\n",
            "  Pivot token: 'So'\n",
            "  Text preview: A tomato plant has 100 tomatoes. Jane picks 1/4 of that number for use in their house. After a week,...\n",
            "Sample 2: Tokenized to 163 tokens\n",
            "Sample 2: Got residuals shape torch.Size([163, 1024])\n",
            "  Found pivot match - Token 64: ' solve' matches 'so'\n",
            "Sample 2: Created 163 labels, 1.0 are pivotal\n",
            "Sample 2: Successfully added to dataset\n",
            "Sample 3: Pivot token too short or empty: ''\n"
          ]
        },
        {
          "output_type": "stream",
          "name": "stderr",
          "text": [
            "  1%|          | 10/971 [00:00<00:59, 16.25it/s]"
          ]
        },
        {
          "output_type": "stream",
          "name": "stdout",
          "text": [
            "Sample 9: Pivot token too short or empty: '\\'\n"
          ]
        },
        {
          "output_type": "stream",
          "name": "stderr",
          "text": [
            "100%|██████████| 971/971 [01:09<00:00, 14.06it/s]\n"
          ]
        },
        {
          "output_type": "stream",
          "name": "stdout",
          "text": [
            "\n",
            "=== Dataset Preparation Summary ===\n",
            "Total input samples: 971\n",
            "Successful samples: 588\n",
            "Skipped - no pivot_context: 0\n",
            "Skipped - no pivot_token: 383\n",
            "Skipped - empty residuals: 0\n",
            "Skipped - empty labels: 0\n",
            "Skipped - misalignment: 0\n",
            "Final dataset size: 588\n",
            "Epoch 1: Loss = 12.5627 | Accuracy = 0.7453\n",
            "Epoch 2: Loss = 6.9538 | Accuracy = 0.9747\n",
            "Epoch 3: Loss = 6.8637 | Accuracy = 0.9751\n",
            "Layer 16 Accuracy: 0.9765\n",
            "\n",
            "=== Probing Layer 17 ===\n",
            "Initializing dataset with 971 samples\n",
            "First sample keys: ['model_id', 'query', 'pivot_context', 'pivot_token', 'pivot_token_id', 'prob_before', 'prob_after', 'prob_delta', 'is_positive', 'task_type', 'dataset_id', 'dataset_item_id', 'timestamp']\n",
            "Sample has 'pivot_context': True\n",
            "Sample has 'pivot_token': True\n"
          ]
        },
        {
          "output_type": "stream",
          "name": "stderr",
          "text": [
            "\r  0%|          | 0/971 [00:00<?, ?it/s]"
          ]
        },
        {
          "output_type": "stream",
          "name": "stdout",
          "text": [
            "Sample 0: Pivot token too short or empty: ''\n",
            "Sample 1: Pivot token too short or empty: '7'\n",
            "Sample 2: Processing text of length 647\n",
            "  Pivot token: 'So'\n",
            "  Text preview: A tomato plant has 100 tomatoes. Jane picks 1/4 of that number for use in their house. After a week,...\n",
            "Sample 2: Tokenized to 163 tokens\n",
            "Sample 2: Got residuals shape torch.Size([163, 1024])\n",
            "  Found pivot match - Token 64: ' solve' matches 'so'\n",
            "Sample 2: Created 163 labels, 1.0 are pivotal\n",
            "Sample 2: Successfully added to dataset\n",
            "Sample 3: Pivot token too short or empty: ''\n"
          ]
        },
        {
          "output_type": "stream",
          "name": "stderr",
          "text": [
            "  1%|          | 10/971 [00:00<00:58, 16.44it/s]"
          ]
        },
        {
          "output_type": "stream",
          "name": "stdout",
          "text": [
            "Sample 9: Pivot token too short or empty: '\\'\n"
          ]
        },
        {
          "output_type": "stream",
          "name": "stderr",
          "text": [
            "100%|██████████| 971/971 [01:08<00:00, 14.08it/s]\n"
          ]
        },
        {
          "output_type": "stream",
          "name": "stdout",
          "text": [
            "\n",
            "=== Dataset Preparation Summary ===\n",
            "Total input samples: 971\n",
            "Successful samples: 588\n",
            "Skipped - no pivot_context: 0\n",
            "Skipped - no pivot_token: 383\n",
            "Skipped - empty residuals: 0\n",
            "Skipped - empty labels: 0\n",
            "Skipped - misalignment: 0\n",
            "Final dataset size: 588\n",
            "Epoch 1: Loss = 3.1719 | Accuracy = 0.9534\n",
            "Epoch 2: Loss = 2.2053 | Accuracy = 0.9784\n",
            "Epoch 3: Loss = 1.9942 | Accuracy = 0.9768\n",
            "Layer 17 Accuracy: 0.9777\n",
            "\n",
            "=== Probing Layer 18 ===\n",
            "Initializing dataset with 971 samples\n",
            "First sample keys: ['model_id', 'query', 'pivot_context', 'pivot_token', 'pivot_token_id', 'prob_before', 'prob_after', 'prob_delta', 'is_positive', 'task_type', 'dataset_id', 'dataset_item_id', 'timestamp']\n",
            "Sample has 'pivot_context': True\n",
            "Sample has 'pivot_token': True\n"
          ]
        },
        {
          "output_type": "stream",
          "name": "stderr",
          "text": [
            "\r  0%|          | 0/971 [00:00<?, ?it/s]"
          ]
        },
        {
          "output_type": "stream",
          "name": "stdout",
          "text": [
            "Sample 0: Pivot token too short or empty: ''\n",
            "Sample 1: Pivot token too short or empty: '7'\n",
            "Sample 2: Processing text of length 647\n",
            "  Pivot token: 'So'\n",
            "  Text preview: A tomato plant has 100 tomatoes. Jane picks 1/4 of that number for use in their house. After a week,...\n",
            "Sample 2: Tokenized to 163 tokens\n",
            "Sample 2: Got residuals shape torch.Size([163, 1024])\n",
            "  Found pivot match - Token 64: ' solve' matches 'so'\n",
            "Sample 2: Created 163 labels, 1.0 are pivotal\n",
            "Sample 2: Successfully added to dataset\n",
            "Sample 3: Pivot token too short or empty: ''\n"
          ]
        },
        {
          "output_type": "stream",
          "name": "stderr",
          "text": [
            "  1%|          | 10/971 [00:00<00:59, 16.21it/s]"
          ]
        },
        {
          "output_type": "stream",
          "name": "stdout",
          "text": [
            "Sample 9: Pivot token too short or empty: '\\'\n"
          ]
        },
        {
          "output_type": "stream",
          "name": "stderr",
          "text": [
            "100%|██████████| 971/971 [01:08<00:00, 14.16it/s]\n"
          ]
        },
        {
          "output_type": "stream",
          "name": "stdout",
          "text": [
            "\n",
            "=== Dataset Preparation Summary ===\n",
            "Total input samples: 971\n",
            "Successful samples: 588\n",
            "Skipped - no pivot_context: 0\n",
            "Skipped - no pivot_token: 383\n",
            "Skipped - empty residuals: 0\n",
            "Skipped - empty labels: 0\n",
            "Skipped - misalignment: 0\n",
            "Final dataset size: 588\n",
            "Epoch 1: Loss = 11.3153 | Accuracy = 0.8301\n",
            "Epoch 2: Loss = 7.5918 | Accuracy = 0.9748\n",
            "Epoch 3: Loss = 7.3701 | Accuracy = 0.9749\n",
            "Layer 18 Accuracy: 0.9745\n",
            "\n",
            "=== Probing Layer 19 ===\n",
            "Initializing dataset with 971 samples\n",
            "First sample keys: ['model_id', 'query', 'pivot_context', 'pivot_token', 'pivot_token_id', 'prob_before', 'prob_after', 'prob_delta', 'is_positive', 'task_type', 'dataset_id', 'dataset_item_id', 'timestamp']\n",
            "Sample has 'pivot_context': True\n",
            "Sample has 'pivot_token': True\n"
          ]
        },
        {
          "output_type": "stream",
          "name": "stderr",
          "text": [
            "\r  0%|          | 0/971 [00:00<?, ?it/s]"
          ]
        },
        {
          "output_type": "stream",
          "name": "stdout",
          "text": [
            "Sample 0: Pivot token too short or empty: ''\n",
            "Sample 1: Pivot token too short or empty: '7'\n",
            "Sample 2: Processing text of length 647\n",
            "  Pivot token: 'So'\n",
            "  Text preview: A tomato plant has 100 tomatoes. Jane picks 1/4 of that number for use in their house. After a week,...\n",
            "Sample 2: Tokenized to 163 tokens\n",
            "Sample 2: Got residuals shape torch.Size([163, 1024])\n",
            "  Found pivot match - Token 64: ' solve' matches 'so'\n",
            "Sample 2: Created 163 labels, 1.0 are pivotal\n",
            "Sample 2: Successfully added to dataset\n",
            "Sample 3: Pivot token too short or empty: ''\n"
          ]
        },
        {
          "output_type": "stream",
          "name": "stderr",
          "text": [
            "  1%|          | 10/971 [00:00<00:58, 16.29it/s]"
          ]
        },
        {
          "output_type": "stream",
          "name": "stdout",
          "text": [
            "Sample 9: Pivot token too short or empty: '\\'\n"
          ]
        },
        {
          "output_type": "stream",
          "name": "stderr",
          "text": [
            "100%|██████████| 971/971 [01:08<00:00, 14.14it/s]\n"
          ]
        },
        {
          "output_type": "stream",
          "name": "stdout",
          "text": [
            "\n",
            "=== Dataset Preparation Summary ===\n",
            "Total input samples: 971\n",
            "Successful samples: 588\n",
            "Skipped - no pivot_context: 0\n",
            "Skipped - no pivot_token: 383\n",
            "Skipped - empty residuals: 0\n",
            "Skipped - empty labels: 0\n",
            "Skipped - misalignment: 0\n",
            "Final dataset size: 588\n",
            "Epoch 1: Loss = 2.4023 | Accuracy = 0.9754\n",
            "Epoch 2: Loss = 2.0043 | Accuracy = 0.9773\n",
            "Epoch 3: Loss = 1.9014 | Accuracy = 0.9780\n",
            "Layer 19 Accuracy: 0.9788\n",
            "\n",
            "=== Probing Layer 20 ===\n",
            "Initializing dataset with 971 samples\n",
            "First sample keys: ['model_id', 'query', 'pivot_context', 'pivot_token', 'pivot_token_id', 'prob_before', 'prob_after', 'prob_delta', 'is_positive', 'task_type', 'dataset_id', 'dataset_item_id', 'timestamp']\n",
            "Sample has 'pivot_context': True\n",
            "Sample has 'pivot_token': True\n"
          ]
        },
        {
          "output_type": "stream",
          "name": "stderr",
          "text": [
            "\r  0%|          | 0/971 [00:00<?, ?it/s]"
          ]
        },
        {
          "output_type": "stream",
          "name": "stdout",
          "text": [
            "Sample 0: Pivot token too short or empty: ''\n",
            "Sample 1: Pivot token too short or empty: '7'\n",
            "Sample 2: Processing text of length 647\n",
            "  Pivot token: 'So'\n",
            "  Text preview: A tomato plant has 100 tomatoes. Jane picks 1/4 of that number for use in their house. After a week,...\n",
            "Sample 2: Tokenized to 163 tokens\n",
            "Sample 2: Got residuals shape torch.Size([163, 1024])\n",
            "  Found pivot match - Token 64: ' solve' matches 'so'\n",
            "Sample 2: Created 163 labels, 1.0 are pivotal\n",
            "Sample 2: Successfully added to dataset\n",
            "Sample 3: Pivot token too short or empty: ''\n"
          ]
        },
        {
          "output_type": "stream",
          "name": "stderr",
          "text": [
            "  1%|          | 10/971 [00:00<00:59, 16.10it/s]"
          ]
        },
        {
          "output_type": "stream",
          "name": "stdout",
          "text": [
            "Sample 9: Pivot token too short or empty: '\\'\n"
          ]
        },
        {
          "output_type": "stream",
          "name": "stderr",
          "text": [
            "100%|██████████| 971/971 [01:08<00:00, 14.09it/s]\n"
          ]
        },
        {
          "output_type": "stream",
          "name": "stdout",
          "text": [
            "\n",
            "=== Dataset Preparation Summary ===\n",
            "Total input samples: 971\n",
            "Successful samples: 588\n",
            "Skipped - no pivot_context: 0\n",
            "Skipped - no pivot_token: 383\n",
            "Skipped - empty residuals: 0\n",
            "Skipped - empty labels: 0\n",
            "Skipped - misalignment: 0\n",
            "Final dataset size: 588\n",
            "Epoch 1: Loss = 10.1353 | Accuracy = 0.8894\n",
            "Epoch 2: Loss = 7.6603 | Accuracy = 0.9752\n",
            "Epoch 3: Loss = 7.0384 | Accuracy = 0.9715\n",
            "Layer 20 Accuracy: 0.9657\n",
            "\n",
            "=== Probing Layer 21 ===\n",
            "Initializing dataset with 971 samples\n",
            "First sample keys: ['model_id', 'query', 'pivot_context', 'pivot_token', 'pivot_token_id', 'prob_before', 'prob_after', 'prob_delta', 'is_positive', 'task_type', 'dataset_id', 'dataset_item_id', 'timestamp']\n",
            "Sample has 'pivot_context': True\n",
            "Sample has 'pivot_token': True\n"
          ]
        },
        {
          "output_type": "stream",
          "name": "stderr",
          "text": [
            "\r  0%|          | 0/971 [00:00<?, ?it/s]"
          ]
        },
        {
          "output_type": "stream",
          "name": "stdout",
          "text": [
            "Sample 0: Pivot token too short or empty: ''\n",
            "Sample 1: Pivot token too short or empty: '7'\n",
            "Sample 2: Processing text of length 647\n",
            "  Pivot token: 'So'\n",
            "  Text preview: A tomato plant has 100 tomatoes. Jane picks 1/4 of that number for use in their house. After a week,...\n",
            "Sample 2: Tokenized to 163 tokens\n",
            "Sample 2: Got residuals shape torch.Size([163, 1024])\n",
            "  Found pivot match - Token 64: ' solve' matches 'so'\n",
            "Sample 2: Created 163 labels, 1.0 are pivotal\n",
            "Sample 2: Successfully added to dataset\n",
            "Sample 3: Pivot token too short or empty: ''\n"
          ]
        },
        {
          "output_type": "stream",
          "name": "stderr",
          "text": [
            "  1%|          | 10/971 [00:00<00:58, 16.42it/s]"
          ]
        },
        {
          "output_type": "stream",
          "name": "stdout",
          "text": [
            "Sample 9: Pivot token too short or empty: '\\'\n"
          ]
        },
        {
          "output_type": "stream",
          "name": "stderr",
          "text": [
            "100%|██████████| 971/971 [01:08<00:00, 14.15it/s]\n"
          ]
        },
        {
          "output_type": "stream",
          "name": "stdout",
          "text": [
            "\n",
            "=== Dataset Preparation Summary ===\n",
            "Total input samples: 971\n",
            "Successful samples: 588\n",
            "Skipped - no pivot_context: 0\n",
            "Skipped - no pivot_token: 383\n",
            "Skipped - empty residuals: 0\n",
            "Skipped - empty labels: 0\n",
            "Skipped - misalignment: 0\n",
            "Final dataset size: 588\n",
            "Epoch 1: Loss = 12.3434 | Accuracy = 0.8543\n",
            "Epoch 2: Loss = 8.7041 | Accuracy = 0.9739\n",
            "Epoch 3: Loss = 7.8483 | Accuracy = 0.9721\n",
            "Layer 21 Accuracy: 0.9707\n",
            "\n",
            "=== Probing Layer 22 ===\n",
            "Initializing dataset with 971 samples\n",
            "First sample keys: ['model_id', 'query', 'pivot_context', 'pivot_token', 'pivot_token_id', 'prob_before', 'prob_after', 'prob_delta', 'is_positive', 'task_type', 'dataset_id', 'dataset_item_id', 'timestamp']\n",
            "Sample has 'pivot_context': True\n",
            "Sample has 'pivot_token': True\n"
          ]
        },
        {
          "output_type": "stream",
          "name": "stderr",
          "text": [
            "\r  0%|          | 0/971 [00:00<?, ?it/s]"
          ]
        },
        {
          "output_type": "stream",
          "name": "stdout",
          "text": [
            "Sample 0: Pivot token too short or empty: ''\n",
            "Sample 1: Pivot token too short or empty: '7'\n",
            "Sample 2: Processing text of length 647\n",
            "  Pivot token: 'So'\n",
            "  Text preview: A tomato plant has 100 tomatoes. Jane picks 1/4 of that number for use in their house. After a week,...\n",
            "Sample 2: Tokenized to 163 tokens\n",
            "Sample 2: Got residuals shape torch.Size([163, 1024])\n",
            "  Found pivot match - Token 64: ' solve' matches 'so'\n",
            "Sample 2: Created 163 labels, 1.0 are pivotal\n",
            "Sample 2: Successfully added to dataset\n",
            "Sample 3: Pivot token too short or empty: ''\n"
          ]
        },
        {
          "output_type": "stream",
          "name": "stderr",
          "text": [
            "  1%|          | 10/971 [00:00<00:58, 16.45it/s]"
          ]
        },
        {
          "output_type": "stream",
          "name": "stdout",
          "text": [
            "Sample 9: Pivot token too short or empty: '\\'\n"
          ]
        },
        {
          "output_type": "stream",
          "name": "stderr",
          "text": [
            "100%|██████████| 971/971 [01:08<00:00, 14.15it/s]\n"
          ]
        },
        {
          "output_type": "stream",
          "name": "stdout",
          "text": [
            "\n",
            "=== Dataset Preparation Summary ===\n",
            "Total input samples: 971\n",
            "Successful samples: 588\n",
            "Skipped - no pivot_context: 0\n",
            "Skipped - no pivot_token: 383\n",
            "Skipped - empty residuals: 0\n",
            "Skipped - empty labels: 0\n",
            "Skipped - misalignment: 0\n",
            "Final dataset size: 588\n",
            "Epoch 1: Loss = 19.8534 | Accuracy = 0.7496\n",
            "Epoch 2: Loss = 9.2800 | Accuracy = 0.9756\n",
            "Epoch 3: Loss = 8.9812 | Accuracy = 0.9761\n",
            "Layer 22 Accuracy: 0.9709\n",
            "\n",
            "=== Probing Layer 23 ===\n",
            "Initializing dataset with 971 samples\n",
            "First sample keys: ['model_id', 'query', 'pivot_context', 'pivot_token', 'pivot_token_id', 'prob_before', 'prob_after', 'prob_delta', 'is_positive', 'task_type', 'dataset_id', 'dataset_item_id', 'timestamp']\n",
            "Sample has 'pivot_context': True\n",
            "Sample has 'pivot_token': True\n"
          ]
        },
        {
          "output_type": "stream",
          "name": "stderr",
          "text": [
            "\r  0%|          | 0/971 [00:00<?, ?it/s]"
          ]
        },
        {
          "output_type": "stream",
          "name": "stdout",
          "text": [
            "Sample 0: Pivot token too short or empty: ''\n",
            "Sample 1: Pivot token too short or empty: '7'\n",
            "Sample 2: Processing text of length 647\n",
            "  Pivot token: 'So'\n",
            "  Text preview: A tomato plant has 100 tomatoes. Jane picks 1/4 of that number for use in their house. After a week,...\n",
            "Sample 2: Tokenized to 163 tokens\n",
            "Sample 2: Got residuals shape torch.Size([163, 1024])\n",
            "  Found pivot match - Token 64: ' solve' matches 'so'\n",
            "Sample 2: Created 163 labels, 1.0 are pivotal\n",
            "Sample 2: Successfully added to dataset\n",
            "Sample 3: Pivot token too short or empty: ''\n"
          ]
        },
        {
          "output_type": "stream",
          "name": "stderr",
          "text": [
            "  1%|          | 10/971 [00:00<00:58, 16.35it/s]"
          ]
        },
        {
          "output_type": "stream",
          "name": "stdout",
          "text": [
            "Sample 9: Pivot token too short or empty: '\\'\n"
          ]
        },
        {
          "output_type": "stream",
          "name": "stderr",
          "text": [
            "100%|██████████| 971/971 [01:08<00:00, 14.12it/s]\n"
          ]
        },
        {
          "output_type": "stream",
          "name": "stdout",
          "text": [
            "\n",
            "=== Dataset Preparation Summary ===\n",
            "Total input samples: 971\n",
            "Successful samples: 588\n",
            "Skipped - no pivot_context: 0\n",
            "Skipped - no pivot_token: 383\n",
            "Skipped - empty residuals: 0\n",
            "Skipped - empty labels: 0\n",
            "Skipped - misalignment: 0\n",
            "Final dataset size: 588\n",
            "Epoch 1: Loss = 18.4031 | Accuracy = 0.7903\n",
            "Epoch 2: Loss = 6.0474 | Accuracy = 0.9753\n",
            "Epoch 3: Loss = 4.3250 | Accuracy = 0.9782\n",
            "Layer 23 Accuracy: 0.9764\n",
            "\n",
            "=== Probing Layer 24 ===\n",
            "Initializing dataset with 971 samples\n",
            "First sample keys: ['model_id', 'query', 'pivot_context', 'pivot_token', 'pivot_token_id', 'prob_before', 'prob_after', 'prob_delta', 'is_positive', 'task_type', 'dataset_id', 'dataset_item_id', 'timestamp']\n",
            "Sample has 'pivot_context': True\n",
            "Sample has 'pivot_token': True\n"
          ]
        },
        {
          "output_type": "stream",
          "name": "stderr",
          "text": [
            "\r  0%|          | 0/971 [00:00<?, ?it/s]"
          ]
        },
        {
          "output_type": "stream",
          "name": "stdout",
          "text": [
            "Sample 0: Pivot token too short or empty: ''\n",
            "Sample 1: Pivot token too short or empty: '7'\n",
            "Sample 2: Processing text of length 647\n",
            "  Pivot token: 'So'\n",
            "  Text preview: A tomato plant has 100 tomatoes. Jane picks 1/4 of that number for use in their house. After a week,...\n",
            "Sample 2: Tokenized to 163 tokens\n",
            "Sample 2: Got residuals shape torch.Size([163, 1024])\n",
            "  Found pivot match - Token 64: ' solve' matches 'so'\n",
            "Sample 2: Created 163 labels, 1.0 are pivotal\n",
            "Sample 2: Successfully added to dataset\n",
            "Sample 3: Pivot token too short or empty: ''\n"
          ]
        },
        {
          "output_type": "stream",
          "name": "stderr",
          "text": [
            "  1%|          | 10/971 [00:00<00:59, 16.26it/s]"
          ]
        },
        {
          "output_type": "stream",
          "name": "stdout",
          "text": [
            "Sample 9: Pivot token too short or empty: '\\'\n"
          ]
        },
        {
          "output_type": "stream",
          "name": "stderr",
          "text": [
            "100%|██████████| 971/971 [01:08<00:00, 14.08it/s]\n"
          ]
        },
        {
          "output_type": "stream",
          "name": "stdout",
          "text": [
            "\n",
            "=== Dataset Preparation Summary ===\n",
            "Total input samples: 971\n",
            "Successful samples: 588\n",
            "Skipped - no pivot_context: 0\n",
            "Skipped - no pivot_token: 383\n",
            "Skipped - empty residuals: 0\n",
            "Skipped - empty labels: 0\n",
            "Skipped - misalignment: 0\n",
            "Final dataset size: 588\n",
            "Epoch 1: Loss = 22.0273 | Accuracy = 0.7806\n",
            "Epoch 2: Loss = 10.7941 | Accuracy = 0.9752\n",
            "Epoch 3: Loss = 10.4250 | Accuracy = 0.9750\n",
            "Layer 24 Accuracy: 0.9715\n",
            "\n",
            "=== Probing Layer 25 ===\n",
            "Initializing dataset with 971 samples\n",
            "First sample keys: ['model_id', 'query', 'pivot_context', 'pivot_token', 'pivot_token_id', 'prob_before', 'prob_after', 'prob_delta', 'is_positive', 'task_type', 'dataset_id', 'dataset_item_id', 'timestamp']\n",
            "Sample has 'pivot_context': True\n",
            "Sample has 'pivot_token': True\n"
          ]
        },
        {
          "output_type": "stream",
          "name": "stderr",
          "text": [
            "\r  0%|          | 0/971 [00:00<?, ?it/s]"
          ]
        },
        {
          "output_type": "stream",
          "name": "stdout",
          "text": [
            "Sample 0: Pivot token too short or empty: ''\n",
            "Sample 1: Pivot token too short or empty: '7'\n",
            "Sample 2: Processing text of length 647\n",
            "  Pivot token: 'So'\n",
            "  Text preview: A tomato plant has 100 tomatoes. Jane picks 1/4 of that number for use in their house. After a week,...\n",
            "Sample 2: Tokenized to 163 tokens\n",
            "Sample 2: Got residuals shape torch.Size([163, 1024])\n",
            "  Found pivot match - Token 64: ' solve' matches 'so'\n",
            "Sample 2: Created 163 labels, 1.0 are pivotal\n",
            "Sample 2: Successfully added to dataset\n",
            "Sample 3: Pivot token too short or empty: ''\n"
          ]
        },
        {
          "output_type": "stream",
          "name": "stderr",
          "text": [
            "  1%|          | 10/971 [00:00<00:58, 16.32it/s]"
          ]
        },
        {
          "output_type": "stream",
          "name": "stdout",
          "text": [
            "Sample 9: Pivot token too short or empty: '\\'\n"
          ]
        },
        {
          "output_type": "stream",
          "name": "stderr",
          "text": [
            "100%|██████████| 971/971 [01:08<00:00, 14.12it/s]\n"
          ]
        },
        {
          "output_type": "stream",
          "name": "stdout",
          "text": [
            "\n",
            "=== Dataset Preparation Summary ===\n",
            "Total input samples: 971\n",
            "Successful samples: 588\n",
            "Skipped - no pivot_context: 0\n",
            "Skipped - no pivot_token: 383\n",
            "Skipped - empty residuals: 0\n",
            "Skipped - empty labels: 0\n",
            "Skipped - misalignment: 0\n",
            "Final dataset size: 588\n",
            "Epoch 1: Loss = 58.5729 | Accuracy = 0.6969\n",
            "Epoch 2: Loss = 12.1878 | Accuracy = 0.9749\n",
            "Epoch 3: Loss = 9.0486 | Accuracy = 0.9751\n",
            "Layer 25 Accuracy: 0.9755\n",
            "\n",
            "=== Probing Layer 26 ===\n",
            "Initializing dataset with 971 samples\n",
            "First sample keys: ['model_id', 'query', 'pivot_context', 'pivot_token', 'pivot_token_id', 'prob_before', 'prob_after', 'prob_delta', 'is_positive', 'task_type', 'dataset_id', 'dataset_item_id', 'timestamp']\n",
            "Sample has 'pivot_context': True\n",
            "Sample has 'pivot_token': True\n"
          ]
        },
        {
          "output_type": "stream",
          "name": "stderr",
          "text": [
            "\r  0%|          | 0/971 [00:00<?, ?it/s]"
          ]
        },
        {
          "output_type": "stream",
          "name": "stdout",
          "text": [
            "Sample 0: Pivot token too short or empty: ''\n",
            "Sample 1: Pivot token too short or empty: '7'\n",
            "Sample 2: Processing text of length 647\n",
            "  Pivot token: 'So'\n",
            "  Text preview: A tomato plant has 100 tomatoes. Jane picks 1/4 of that number for use in their house. After a week,...\n",
            "Sample 2: Tokenized to 163 tokens\n",
            "Sample 2: Got residuals shape torch.Size([163, 1024])\n",
            "  Found pivot match - Token 64: ' solve' matches 'so'\n",
            "Sample 2: Created 163 labels, 1.0 are pivotal\n",
            "Sample 2: Successfully added to dataset\n",
            "Sample 3: Pivot token too short or empty: ''\n"
          ]
        },
        {
          "output_type": "stream",
          "name": "stderr",
          "text": [
            "  1%|          | 10/971 [00:00<00:58, 16.40it/s]"
          ]
        },
        {
          "output_type": "stream",
          "name": "stdout",
          "text": [
            "Sample 9: Pivot token too short or empty: '\\'\n"
          ]
        },
        {
          "output_type": "stream",
          "name": "stderr",
          "text": [
            "100%|██████████| 971/971 [01:08<00:00, 14.15it/s]\n"
          ]
        },
        {
          "output_type": "stream",
          "name": "stdout",
          "text": [
            "\n",
            "=== Dataset Preparation Summary ===\n",
            "Total input samples: 971\n",
            "Successful samples: 588\n",
            "Skipped - no pivot_context: 0\n",
            "Skipped - no pivot_token: 383\n",
            "Skipped - empty residuals: 0\n",
            "Skipped - empty labels: 0\n",
            "Skipped - misalignment: 0\n",
            "Final dataset size: 588\n",
            "Epoch 1: Loss = 3.8652 | Accuracy = 0.9654\n",
            "Epoch 2: Loss = 2.7281 | Accuracy = 0.9704\n",
            "Epoch 3: Loss = 2.3329 | Accuracy = 0.9706\n",
            "Layer 26 Accuracy: 0.9789\n",
            "\n",
            "=== Probing Layer 27 ===\n",
            "Initializing dataset with 971 samples\n",
            "First sample keys: ['model_id', 'query', 'pivot_context', 'pivot_token', 'pivot_token_id', 'prob_before', 'prob_after', 'prob_delta', 'is_positive', 'task_type', 'dataset_id', 'dataset_item_id', 'timestamp']\n",
            "Sample has 'pivot_context': True\n",
            "Sample has 'pivot_token': True\n"
          ]
        },
        {
          "output_type": "stream",
          "name": "stderr",
          "text": [
            "\r  0%|          | 0/971 [00:00<?, ?it/s]"
          ]
        },
        {
          "output_type": "stream",
          "name": "stdout",
          "text": [
            "Sample 0: Pivot token too short or empty: ''\n",
            "Sample 1: Pivot token too short or empty: '7'\n",
            "Sample 2: Processing text of length 647\n",
            "  Pivot token: 'So'\n",
            "  Text preview: A tomato plant has 100 tomatoes. Jane picks 1/4 of that number for use in their house. After a week,...\n",
            "Sample 2: Tokenized to 163 tokens\n",
            "Sample 2: Got residuals shape torch.Size([163, 1024])\n",
            "  Found pivot match - Token 64: ' solve' matches 'so'\n",
            "Sample 2: Created 163 labels, 1.0 are pivotal\n",
            "Sample 2: Successfully added to dataset\n",
            "Sample 3: Pivot token too short or empty: ''\n"
          ]
        },
        {
          "output_type": "stream",
          "name": "stderr",
          "text": [
            "  1%|          | 10/971 [00:00<00:58, 16.34it/s]"
          ]
        },
        {
          "output_type": "stream",
          "name": "stdout",
          "text": [
            "Sample 9: Pivot token too short or empty: '\\'\n"
          ]
        },
        {
          "output_type": "stream",
          "name": "stderr",
          "text": [
            "100%|██████████| 971/971 [01:08<00:00, 14.11it/s]\n"
          ]
        },
        {
          "output_type": "stream",
          "name": "stdout",
          "text": [
            "\n",
            "=== Dataset Preparation Summary ===\n",
            "Total input samples: 971\n",
            "Successful samples: 588\n",
            "Skipped - no pivot_context: 0\n",
            "Skipped - no pivot_token: 383\n",
            "Skipped - empty residuals: 0\n",
            "Skipped - empty labels: 0\n",
            "Skipped - misalignment: 0\n",
            "Final dataset size: 588\n",
            "Epoch 1: Loss = 33.3676 | Accuracy = 0.8048\n",
            "Epoch 2: Loss = 8.9489 | Accuracy = 0.9780\n",
            "Epoch 3: Loss = 8.8790 | Accuracy = 0.9782\n",
            "Layer 27 Accuracy: 0.9764\n",
            "\n",
            "=== Layer Probe Summary ===\n",
            "Layer  0 -> Accuracy: 0.9802\n",
            "Layer  1 -> Accuracy: 0.9791\n",
            "Layer  2 -> Accuracy: 0.9775\n",
            "Layer  3 -> Accuracy: 0.9786\n",
            "Layer  4 -> Accuracy: 0.9785\n",
            "Layer  5 -> Accuracy: 0.9783\n",
            "Layer  6 -> Accuracy: 0.9796\n",
            "Layer  7 -> Accuracy: 0.9773\n",
            "Layer  8 -> Accuracy: 0.9772\n",
            "Layer  9 -> Accuracy: 0.9761\n",
            "Layer 10 -> Accuracy: 0.9750\n",
            "Layer 11 -> Accuracy: 0.9768\n",
            "Layer 12 -> Accuracy: 0.9782\n",
            "Layer 13 -> Accuracy: 0.9789\n",
            "Layer 14 -> Accuracy: 0.9790\n",
            "Layer 15 -> Accuracy: 0.9773\n",
            "Layer 16 -> Accuracy: 0.9765\n",
            "Layer 17 -> Accuracy: 0.9777\n",
            "Layer 18 -> Accuracy: 0.9745\n",
            "Layer 19 -> Accuracy: 0.9788\n",
            "Layer 20 -> Accuracy: 0.9657\n",
            "Layer 21 -> Accuracy: 0.9707\n",
            "Layer 22 -> Accuracy: 0.9709\n",
            "Layer 23 -> Accuracy: 0.9764\n",
            "Layer 24 -> Accuracy: 0.9715\n",
            "Layer 25 -> Accuracy: 0.9755\n",
            "Layer 26 -> Accuracy: 0.9789\n",
            "Layer 27 -> Accuracy: 0.9764\n",
            "\n",
            "Best layer: 0 with accuracy 0.9802\n"
          ]
        }
      ]
    },
    {
      "cell_type": "markdown",
      "source": [
        "### Save Probe results(CSV)\n"
      ],
      "metadata": {
        "id": "wB7i98lVCnrY"
      }
    },
    {
      "cell_type": "code",
      "source": [
        "import pandas as pd\n",
        "\n",
        "df = pd.DataFrame(results, columns=[\"layer\", \"accuracy\"])\n",
        "df.to_csv(\"layer_probe_results.csv\", index=False)\n",
        "print(\"Saved results to probe_layer_results.csv\")"
      ],
      "metadata": {
        "colab": {
          "base_uri": "https://localhost:8080/"
        },
        "id": "mX3HFTqICxdm",
        "outputId": "eebfe87c-67ef-4fd1-ef7c-2d67d419aa1e"
      },
      "execution_count": 21,
      "outputs": [
        {
          "output_type": "stream",
          "name": "stdout",
          "text": [
            "Saved results to probe_layer_results.csv\n"
          ]
        }
      ]
    },
    {
      "cell_type": "code",
      "source": [],
      "metadata": {
        "id": "uowONY46DGv_"
      },
      "execution_count": 21,
      "outputs": []
    },
    {
      "cell_type": "markdown",
      "source": [
        "### Save the best-performing probe weights"
      ],
      "metadata": {
        "id": "dnyBtTtdDBlA"
      }
    },
    {
      "cell_type": "code",
      "source": [
        "torch.save(best_probe_state, f\"best_probe_layer{best_layer}.pt\")\n",
        "print(f\"Saved best probe (layer {best_layer}) to disk\")"
      ],
      "metadata": {
        "colab": {
          "base_uri": "https://localhost:8080/"
        },
        "id": "ZsMrKs6KDH4v",
        "outputId": "f770612e-2d9f-460d-d366-a5a73e771b76"
      },
      "execution_count": 22,
      "outputs": [
        {
          "output_type": "stream",
          "name": "stdout",
          "text": [
            "Saved best probe (layer 0) to disk\n"
          ]
        }
      ]
    },
    {
      "cell_type": "markdown",
      "source": [
        "### Save Colab files to local machine"
      ],
      "metadata": {
        "id": "s7En8xKdDjyu"
      }
    },
    {
      "cell_type": "code",
      "source": [
        "from google.colab import files\n",
        "#files.download('best_probe_layer15.pt')\n",
        "files.download('layer_probe_results.csv')"
      ],
      "metadata": {
        "colab": {
          "base_uri": "https://localhost:8080/",
          "height": 17
        },
        "id": "Rf9fxB6YDqeL",
        "outputId": "ab44bf68-db2a-4d4c-f6d4-f8d827bc654b"
      },
      "execution_count": 24,
      "outputs": [
        {
          "output_type": "display_data",
          "data": {
            "text/plain": [
              "<IPython.core.display.Javascript object>"
            ],
            "application/javascript": [
              "\n",
              "    async function download(id, filename, size) {\n",
              "      if (!google.colab.kernel.accessAllowed) {\n",
              "        return;\n",
              "      }\n",
              "      const div = document.createElement('div');\n",
              "      const label = document.createElement('label');\n",
              "      label.textContent = `Downloading \"${filename}\": `;\n",
              "      div.appendChild(label);\n",
              "      const progress = document.createElement('progress');\n",
              "      progress.max = size;\n",
              "      div.appendChild(progress);\n",
              "      document.body.appendChild(div);\n",
              "\n",
              "      const buffers = [];\n",
              "      let downloaded = 0;\n",
              "\n",
              "      const channel = await google.colab.kernel.comms.open(id);\n",
              "      // Send a message to notify the kernel that we're ready.\n",
              "      channel.send({})\n",
              "\n",
              "      for await (const message of channel.messages) {\n",
              "        // Send a message to notify the kernel that we're ready.\n",
              "        channel.send({})\n",
              "        if (message.buffers) {\n",
              "          for (const buffer of message.buffers) {\n",
              "            buffers.push(buffer);\n",
              "            downloaded += buffer.byteLength;\n",
              "            progress.value = downloaded;\n",
              "          }\n",
              "        }\n",
              "      }\n",
              "      const blob = new Blob(buffers, {type: 'application/binary'});\n",
              "      const a = document.createElement('a');\n",
              "      a.href = window.URL.createObjectURL(blob);\n",
              "      a.download = filename;\n",
              "      div.appendChild(a);\n",
              "      a.click();\n",
              "      div.remove();\n",
              "    }\n",
              "  "
            ]
          },
          "metadata": {}
        },
        {
          "output_type": "display_data",
          "data": {
            "text/plain": [
              "<IPython.core.display.Javascript object>"
            ],
            "application/javascript": [
              "download(\"download_968a2262-8d3c-4f1b-a1ca-f7636c039ff5\", \"layer_probe_results.csv\", 617)"
            ]
          },
          "metadata": {}
        }
      ]
    },
    {
      "cell_type": "markdown",
      "source": [
        "##Layer vs Accuracy Graph"
      ],
      "metadata": {
        "id": "Gx6frP0mHtps"
      }
    },
    {
      "cell_type": "code",
      "source": [
        "import pandas as pd\n",
        "import matplotlib.pyplot as plt\n",
        "\n",
        "# Load results\n",
        "df = pd.read_csv(\"layer_probe_results.csv\")\n",
        "\n",
        "# Find best layer\n",
        "best_row = df.loc[df['accuracy'].idxmax()]\n",
        "best_layer = int(best_row['layer'])\n",
        "best_acc = best_row['accuracy']\n",
        "\n",
        "# Plot\n",
        "plt.figure(figsize=(10, 5))\n",
        "plt.plot(df[\"layer\"], df[\"accuracy\"], marker=\"o\", label=\"Layer Accuracy\")\n",
        "plt.scatter(best_layer, best_acc, color='red', s=100, zorder=5, label=f\"Best Layer: {best_layer}\")\n",
        "plt.text(best_layer + 0.5, best_acc, f\"{best_acc:.4f}\", color='red', fontsize=12)\n",
        "\n",
        "plt.title(\"Probe Accuracy by Layer\")\n",
        "plt.xlabel(\"Layer\")\n",
        "plt.ylabel(\"Accuracy\")\n",
        "plt.grid(True)\n",
        "plt.xticks(range(df[\"layer\"].min(), df[\"layer\"].max()+1))\n",
        "plt.ylim(0.9, 1.0)\n",
        "plt.legend()\n",
        "plt.savefig(\"layer_probe_accuracy.png\")\n",
        "plt.show()\n"
      ],
      "metadata": {
        "colab": {
          "base_uri": "https://localhost:8080/",
          "height": 487
        },
        "id": "5sGUAzw8HyAv",
        "outputId": "6ce47401-310a-4571-bd2a-336df4465bb6"
      },
      "execution_count": 29,
      "outputs": [
        {
          "output_type": "display_data",
          "data": {
            "text/plain": [
              "<Figure size 1000x500 with 1 Axes>"
            ],
            "image/png": "[encoded data removed]"
          },
          "metadata": {}
        }
      ]
    },
    {
      "cell_type": "code",
      "source": [
        "from google.colab import files\n",
        "files.download('layer_probe_accuracy.png')"
      ],
      "metadata": {
        "colab": {
          "base_uri": "https://localhost:8080/",
          "height": 17
        },
        "id": "UE4Sg785IVzN",
        "outputId": "37eeaa26-3647-496d-9ecd-0e02999c150d"
      },
      "execution_count": 32,
      "outputs": [
        {
          "output_type": "display_data",
          "data": {
            "text/plain": [
              "<IPython.core.display.Javascript object>"
            ],
            "application/javascript": [
              "\n",
              "    async function download(id, filename, size) {\n",
              "      if (!google.colab.kernel.accessAllowed) {\n",
              "        return;\n",
              "      }\n",
              "      const div = document.createElement('div');\n",
              "      const label = document.createElement('label');\n",
              "      label.textContent = `Downloading \"${filename}\": `;\n",
              "      div.appendChild(label);\n",
              "      const progress = document.createElement('progress');\n",
              "      progress.max = size;\n",
              "      div.appendChild(progress);\n",
              "      document.body.appendChild(div);\n",
              "\n",
              "      const buffers = [];\n",
              "      let downloaded = 0;\n",
              "\n",
              "      const channel = await google.colab.kernel.comms.open(id);\n",
              "      // Send a message to notify the kernel that we're ready.\n",
              "      channel.send({})\n",
              "\n",
              "      for await (const message of channel.messages) {\n",
              "        // Send a message to notify the kernel that we're ready.\n",
              "        channel.send({})\n",
              "        if (message.buffers) {\n",
              "          for (const buffer of message.buffers) {\n",
              "            buffers.push(buffer);\n",
              "            downloaded += buffer.byteLength;\n",
              "            progress.value = downloaded;\n",
              "          }\n",
              "        }\n",
              "      }\n",
              "      const blob = new Blob(buffers, {type: 'application/binary'});\n",
              "      const a = document.createElement('a');\n",
              "      a.href = window.URL.createObjectURL(blob);\n",
              "      a.download = filename;\n",
              "      div.appendChild(a);\n",
              "      a.click();\n",
              "      div.remove();\n",
              "    }\n",
              "  "
            ]
          },
          "metadata": {}
        },
        {
          "output_type": "display_data",
          "data": {
            "text/plain": [
              "<IPython.core.display.Javascript object>"
            ],
            "application/javascript": [
              "download(\"download_9724b650-e05b-45bb-ac61-19190e69b38e\", \"layer_probe_accuracy.png\", 37677)"
            ]
          },
          "metadata": {}
        }
      ]
    },
    {
      "cell_type": "markdown",
      "source": [
        "## Mounting google drive in Colab\n"
      ],
      "metadata": {
        "id": "sioPhxFWsRFE"
      }
    },
    {
      "cell_type": "markdown",
      "source": [],
      "metadata": {
        "id": "jdaPxpiDuYD1"
      }
    },
    {
      "cell_type": "code",
      "source": [
        "# Creating folders\n",
        "from google.colab import drive\n",
        "import os\n",
        "\n",
        "# mount Google Drive\n",
        "drive.mount('/content/drive')\n",
        "\n",
        "# Define the base folder path\n",
        "base_dir = '/content/drive/MyDrive/LLM-Probing'\n",
        "\n",
        "# Create folders\n",
        "\n",
        "folders = [\n",
        "    'Toy',\n",
        "    'PTS',\n",
        "    'PTS/logs'\n",
        "]\n",
        "\n",
        "for folder in folders:\n",
        "    folder_path = os.path.join(base_dir, folder)\n",
        "    if not os.path.exists(folder_path):\n",
        "        os.makedirs(folder_path)\n",
        "        print(f\"Created folder: {folder_path}\")"
      ],
      "metadata": {
        "colab": {
          "base_uri": "https://localhost:8080/"
        },
        "id": "qjnBMcNTqrg_",
        "outputId": "2d48cde0-57da-4b7a-f949-99d925291b60"
      },
      "execution_count": null,
      "outputs": [
        {
          "output_type": "stream",
          "name": "stdout",
          "text": [
            "Drive already mounted at /content/drive; to attempt to forcibly remount, call drive.mount(\"/content/drive\", force_remount=True).\n"
          ]
        }
      ]
    },
    {
      "cell_type": "markdown",
      "source": [
        "### Save the toy examples result to google docs\n",
        "\n",
        "\n",
        "\n"
      ],
      "metadata": {
        "id": "lq-i0PGhsX58"
      }
    },
    {
      "cell_type": "code",
      "source": [
        "import json\n",
        "torch.save(model.state_dict(), '/content/drive/MyDrive/toy_probe_weights.pt')\n",
        "\n",
        "with open('/content/drive/MyDrive/toy_probe_metrics.json', 'w') as f:\n",
        "    json.dump({\"val_accuracy\": 0.82, \"layer\": 15}, f)\n"
      ],
      "metadata": {
        "id": "N9y3E0CJs7JL"
      },
      "execution_count": null,
      "outputs": []
    },
    {
      "cell_type": "markdown",
      "source": [
        "## Generate aligned token-level ```is_pivotal``` labels from the PTS dataset\n"
      ],
      "metadata": {
        "id": "G74tUqaFA7b2"
      }
    },
    {
      "cell_type": "markdown",
      "source": [
        "Based on the data in the [PTS repo](https://github.com/codelion/pts)\n",
        "\n",
        "We want to:\n",
        "1. Tokenize the text(using Qwen tokenizer)\n",
        "2. Align the pivotal words to tokens\n",
        "3. Mark each token with a binary label\n",
        "- `1` if it maps to a pivotal word\n",
        "- `0` otherwise"
      ],
      "metadata": {
        "id": "OAfUmjJHB1ij"
      }
    },
    {
      "cell_type": "code",
      "source": [
        "def get_token_labels(text, tokenizer, pivotal_words):\n",
        "  # Tokenize text with character offsets\n",
        "\n",
        "  encoded = tokenizer(text, return_offsets_mapping=True, return_tensors=\"pt\")\n",
        "  offsets = encoded.offset_mapping[0].tolist()\n",
        "  tokens = tokenizer.convert_ids_to_tokens(encoded.input_ids[0])\n",
        "\n",
        "  # Find character spans of each pivotal word\n",
        "  token_labels = []\n",
        "  for start, end in offsets:\n",
        "    token_str = text[start:end]\n",
        "    is_pivotal = any(token_str in word for word in pivotal_words)\n",
        "    token_labels.append(1 if is_pivotal else 0)\n",
        "\n",
        "  return encoded, token_labels"
      ],
      "metadata": {
        "id": "hIU15XwQCfF7"
      },
      "execution_count": null,
      "outputs": []
    },
    {
      "cell_type": "code",
      "source": [
        "'''\n",
        "# Tokenize and run input\n",
        "text = \"The quick brown fox jumps over the lazy dog\"\n",
        "pivotal_words = [\"quick\", \"jumps\", \"dog\"]\n",
        "inputs = tokenizer(text, return_tensors=\"pt\")\n",
        "# we don't want the model to update the parameters so we don't use gradient descent\n",
        "with torch.no_grad():\n",
        "    _ = model(**inputs)\n",
        "\n",
        "'''\n"
      ],
      "metadata": {
        "id": "RIB-dY7uJKsn"
      },
      "execution_count": null,
      "outputs": []
    },
    {
      "cell_type": "markdown",
      "source": [
        "```pivotal_tokens``` should be a list of strings be a list of strings, like ```[\"quick\", \"jumps\", \"dogs\"]```"
      ],
      "metadata": {
        "id": "cFPCfPyLDWiQ"
      }
    },
    {
      "cell_type": "code",
      "source": [
        "encoded, token_labels = get_token_labels(samples[0].text, tokenizer, samples[0].pivotal_words)"
      ],
      "metadata": {
        "colab": {
          "base_uri": "https://localhost:8080/",
          "height": 159
        },
        "id": "Wf6FNS0SED_I",
        "outputId": "5183db2b-8b5f-4b5e-eef3-b7fa85328aef"
      },
      "execution_count": null,
      "outputs": [
        {
          "output_type": "error",
          "ename": "AttributeError",
          "evalue": "'dict' object has no attribute 'text'",
          "traceback": [
            "\u001b[0;31m---------------------------------------------------------------------------\u001b[0m",
            "\u001b[0;31mAttributeError\u001b[0m                            Traceback (most recent call last)",
            "\u001b[0;32m/tmp/ipython-input-9-3989335529.py\u001b[0m in \u001b[0;36m<cell line: 0>\u001b[0;34m()\u001b[0m\n\u001b[0;32m----> 1\u001b[0;31m \u001b[0mencoded\u001b[0m\u001b[0;34m,\u001b[0m \u001b[0mtoken_labels\u001b[0m \u001b[0;34m=\u001b[0m \u001b[0mget_token_labels\u001b[0m\u001b[0;34m(\u001b[0m\u001b[0msamples\u001b[0m\u001b[0;34m[\u001b[0m\u001b[0;36m0\u001b[0m\u001b[0;34m]\u001b[0m\u001b[0;34m.\u001b[0m\u001b[0mtext\u001b[0m\u001b[0;34m,\u001b[0m \u001b[0mtokenizer\u001b[0m\u001b[0;34m,\u001b[0m \u001b[0msamples\u001b[0m\u001b[0;34m[\u001b[0m\u001b[0;36m0\u001b[0m\u001b[0;34m]\u001b[0m\u001b[0;34m.\u001b[0m\u001b[0mpivotal_words\u001b[0m\u001b[0;34m)\u001b[0m\u001b[0;34m\u001b[0m\u001b[0;34m\u001b[0m\u001b[0m\n\u001b[0m",
            "\u001b[0;31mAttributeError\u001b[0m: 'dict' object has no attribute 'text'"
          ]
        }
      ]
    },
    {
      "cell_type": "markdown",
      "source": [],
      "metadata": {
        "id": "Dj_0z9r3Cdtu"
      }
    },
    {
      "cell_type": "markdown",
      "source": [
        "The Qwen2 uses a hidden size of 1024, that's the hidden_dim\n"
      ],
      "metadata": {
        "id": "HRi2mMS7_ZHd"
      }
    },
    {
      "cell_type": "code",
      "source": [
        "# Align activations with pivotal labels\n",
        "resid = resid.squeeze(0) # [seq_len, 1024]\n",
        "labels = torch.tensor(token_labels).float() # [seq_len]"
      ],
      "metadata": {
        "id": "y1bfHm-i_SD2"
      },
      "execution_count": null,
      "outputs": []
    },
    {
      "cell_type": "code",
      "source": [
        "# Custom Collate Function\n",
        "def flatten_collate(batch):\n",
        "  x_list, y_list = zip(*batch)\n",
        "  x = torch.cat(x_list, dim=0)\n",
        "  y = torch.cat(y_list, dim=0)\n",
        "  return x, y\n"
      ],
      "metadata": {
        "id": "xRb3AczsHXhP"
      },
      "execution_count": null,
      "outputs": []
    },
    {
      "cell_type": "markdown",
      "source": [],
      "metadata": {
        "id": "6m5dk10_cO7E"
      }
    },
    {
      "cell_type": "markdown",
      "source": [
        "## Evaluate Accuracy\n"
      ],
      "metadata": {
        "id": "5dErfXgCITn4"
      }
    },
    {
      "cell_type": "code",
      "source": [
        "with torch.no_grad():\n",
        "  correct, total = 0, 0\n",
        "  for x, y in dataloader:\n",
        "    preds = probe(x)\n",
        "    preds = (preds >= 0.5).float()\n",
        "    correct += (preds == y).sum().item()\n",
        "    total += y.size(0)\n",
        "\n",
        "  acc = correct/total\n",
        "  print(f\"Accuracy: {acc: .4f}\")"
      ],
      "metadata": {
        "colab": {
          "base_uri": "https://localhost:8080/",
          "height": 211
        },
        "id": "73k3EvxFIW6c",
        "outputId": "9a8a0a21-be93-420f-b6f9-14726122269a"
      },
      "execution_count": null,
      "outputs": [
        {
          "output_type": "error",
          "ename": "NameError",
          "evalue": "name 'dataloader' is not defined",
          "traceback": [
            "\u001b[0;31m---------------------------------------------------------------------------\u001b[0m",
            "\u001b[0;31mNameError\u001b[0m                                 Traceback (most recent call last)",
            "\u001b[0;32m/tmp/ipython-input-6-1390806497.py\u001b[0m in \u001b[0;36m<cell line: 0>\u001b[0;34m()\u001b[0m\n\u001b[1;32m      1\u001b[0m \u001b[0;32mwith\u001b[0m \u001b[0mtorch\u001b[0m\u001b[0;34m.\u001b[0m\u001b[0mno_grad\u001b[0m\u001b[0;34m(\u001b[0m\u001b[0;34m)\u001b[0m\u001b[0;34m:\u001b[0m\u001b[0;34m\u001b[0m\u001b[0;34m\u001b[0m\u001b[0m\n\u001b[1;32m      2\u001b[0m   \u001b[0mcorrect\u001b[0m\u001b[0;34m,\u001b[0m \u001b[0mtotal\u001b[0m \u001b[0;34m=\u001b[0m \u001b[0;36m0\u001b[0m\u001b[0;34m,\u001b[0m \u001b[0;36m0\u001b[0m\u001b[0;34m\u001b[0m\u001b[0;34m\u001b[0m\u001b[0m\n\u001b[0;32m----> 3\u001b[0;31m   \u001b[0;32mfor\u001b[0m \u001b[0mx\u001b[0m\u001b[0;34m,\u001b[0m \u001b[0my\u001b[0m \u001b[0;32min\u001b[0m \u001b[0mdataloader\u001b[0m\u001b[0;34m:\u001b[0m\u001b[0;34m\u001b[0m\u001b[0;34m\u001b[0m\u001b[0m\n\u001b[0m\u001b[1;32m      4\u001b[0m     \u001b[0mpreds\u001b[0m \u001b[0;34m=\u001b[0m \u001b[0mprobe\u001b[0m\u001b[0;34m(\u001b[0m\u001b[0mx\u001b[0m\u001b[0;34m)\u001b[0m\u001b[0;34m\u001b[0m\u001b[0;34m\u001b[0m\u001b[0m\n\u001b[1;32m      5\u001b[0m     \u001b[0mpreds\u001b[0m \u001b[0;34m=\u001b[0m \u001b[0;34m(\u001b[0m\u001b[0mpreds\u001b[0m \u001b[0;34m>=\u001b[0m \u001b[0;36m0.5\u001b[0m\u001b[0;34m)\u001b[0m\u001b[0;34m.\u001b[0m\u001b[0mfloat\u001b[0m\u001b[0;34m(\u001b[0m\u001b[0;34m)\u001b[0m\u001b[0;34m\u001b[0m\u001b[0;34m\u001b[0m\u001b[0m\n",
            "\u001b[0;31mNameError\u001b[0m: name 'dataloader' is not defined"
          ]
        }
      ]
    },
    {
      "cell_type": "code",
      "source": [],
      "metadata": {
        "id": "N56e3wzGIlpq"
      },
      "execution_count": null,
      "outputs": []
    }
  ]
}